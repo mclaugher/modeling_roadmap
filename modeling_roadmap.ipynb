{
 "cells": [
  {
   "cell_type": "markdown",
   "metadata": {},
   "source": [
    "# Modeling Primer"
   ]
  },
  {
   "cell_type": "code",
   "execution_count": 1,
   "metadata": {},
   "outputs": [],
   "source": [
    "import statsmodels.api as sm\n",
    "from statsmodels.tsa.stattools import adfuller\n",
    "import pandas as pd\n",
    "import yfinance as yf\n",
    "import scipy.stats as sp\n",
    "import matplotlib.pyplot as plt"
   ]
  },
  {
   "cell_type": "markdown",
   "metadata": {},
   "source": [
    "## Setup\n",
    "In this notebook we will try to create some [Ordinary Least Squares (OLS)](https://www.schmidheiny.name/teaching/ols2up.pdf) models to predict stock price movement. To prepare, there are several csv files in this directory that are downloaded from the [FRED webiste](https://fred.stlouisfed.org) - an excellent source for macroeconomic data. We will learn:\n",
    "* How to load data into Python from a [csv](https://pandas.pydata.org/pandas-docs/stable/reference/api/pandas.read_csv.html) or [excel](https://pandas.pydata.org/pandas-docs/stable/reference/api/pandas.read_excel.html) file using [Pandas](https://pandas.pydata.org) \n",
    "* Also how to use the [yfinance](https://pypi.org/project/yfinance/) package to pull in stock price data from Yahoo! finance \n",
    "* Explore the data with some visualizations using [matplotlib](https://matplotlib.org), which is nicely integrated with pandas\n",
    "* Create a model using the [statsmodels api](https://www.statsmodels.org/stable/index.html) \n",
    "* Various diagnostic techniques for timeseries modeling available to us via statsmodels and [scikit-learn](https://scikit-learn.org/stable/)"
   ]
  },
  {
   "cell_type": "markdown",
   "metadata": {},
   "source": [
    "### Part 1: Pandas\n",
    "Pandas has become the standard for dataframes in the Python world due to the easy power that it provides the user. We will go over some useful features as we use Pandas to expore our data and use it for regression, but I would encourage you to explore the site linked in the title of this section as well as [this cheat sheet](http://datacamp-community-prod.s3.amazonaws.com/dbed353d-2757-4617-8206-8767ab379ab3) for other very useful methods.\n"
   ]
  },
  {
   "cell_type": "code",
   "execution_count": 2,
   "metadata": {},
   "outputs": [
    {
     "data": {
      "text/html": [
       "<div>\n",
       "<style scoped>\n",
       "    .dataframe tbody tr th:only-of-type {\n",
       "        vertical-align: middle;\n",
       "    }\n",
       "\n",
       "    .dataframe tbody tr th {\n",
       "        vertical-align: top;\n",
       "    }\n",
       "\n",
       "    .dataframe thead th {\n",
       "        text-align: right;\n",
       "    }\n",
       "</style>\n",
       "<table border=\"1\" class=\"dataframe\">\n",
       "  <thead>\n",
       "    <tr style=\"text-align: right;\">\n",
       "      <th></th>\n",
       "      <th>DATE</th>\n",
       "      <th>GDPC1</th>\n",
       "    </tr>\n",
       "  </thead>\n",
       "  <tbody>\n",
       "    <tr>\n",
       "      <th>0</th>\n",
       "      <td>1947-01-01</td>\n",
       "      <td>2033.061</td>\n",
       "    </tr>\n",
       "    <tr>\n",
       "      <th>1</th>\n",
       "      <td>1947-04-01</td>\n",
       "      <td>2027.639</td>\n",
       "    </tr>\n",
       "    <tr>\n",
       "      <th>2</th>\n",
       "      <td>1947-07-01</td>\n",
       "      <td>2023.452</td>\n",
       "    </tr>\n",
       "    <tr>\n",
       "      <th>3</th>\n",
       "      <td>1947-10-01</td>\n",
       "      <td>2055.103</td>\n",
       "    </tr>\n",
       "    <tr>\n",
       "      <th>4</th>\n",
       "      <td>1948-01-01</td>\n",
       "      <td>2086.017</td>\n",
       "    </tr>\n",
       "  </tbody>\n",
       "</table>\n",
       "</div>"
      ],
      "text/plain": [
       "         DATE     GDPC1\n",
       "0  1947-01-01  2033.061\n",
       "1  1947-04-01  2027.639\n",
       "2  1947-07-01  2023.452\n",
       "3  1947-10-01  2055.103\n",
       "4  1948-01-01  2086.017"
      ]
     },
     "execution_count": 2,
     "metadata": {},
     "output_type": "execute_result"
    }
   ],
   "source": [
    "# read in csv and look at top \n",
    "# note: pd.read_excel() can be used for excel files with optional arg \n",
    "# sheet_name to specify which tab\n",
    "real_gdp = pd.read_csv('GDPC1.csv')\n",
    "# note: .tail() can be used to look at bottom\n",
    "real_gdp.head()"
   ]
  },
  {
   "cell_type": "code",
   "execution_count": 3,
   "metadata": {},
   "outputs": [
    {
     "data": {
      "text/plain": [
       "['DATE',\n",
       " 'GDPC1',\n",
       " 'T',\n",
       " '_AXIS_ALIASES',\n",
       " '_AXIS_IALIASES',\n",
       " '_AXIS_LEN',\n",
       " '_AXIS_NAMES',\n",
       " '_AXIS_NUMBERS',\n",
       " '_AXIS_ORDERS',\n",
       " '_AXIS_REVERSED',\n",
       " '__abs__',\n",
       " '__add__',\n",
       " '__and__',\n",
       " '__array__',\n",
       " '__array_priority__',\n",
       " '__array_wrap__',\n",
       " '__bool__',\n",
       " '__class__',\n",
       " '__contains__',\n",
       " '__copy__',\n",
       " '__deepcopy__',\n",
       " '__delattr__',\n",
       " '__delitem__',\n",
       " '__dict__',\n",
       " '__dir__',\n",
       " '__div__',\n",
       " '__doc__',\n",
       " '__eq__',\n",
       " '__finalize__',\n",
       " '__floordiv__',\n",
       " '__format__',\n",
       " '__ge__',\n",
       " '__getattr__',\n",
       " '__getattribute__',\n",
       " '__getitem__',\n",
       " '__getstate__',\n",
       " '__gt__',\n",
       " '__hash__',\n",
       " '__iadd__',\n",
       " '__iand__',\n",
       " '__ifloordiv__',\n",
       " '__imod__',\n",
       " '__imul__',\n",
       " '__init__',\n",
       " '__init_subclass__',\n",
       " '__invert__',\n",
       " '__ior__',\n",
       " '__ipow__',\n",
       " '__isub__',\n",
       " '__iter__',\n",
       " '__itruediv__',\n",
       " '__ixor__',\n",
       " '__le__',\n",
       " '__len__',\n",
       " '__lt__',\n",
       " '__matmul__',\n",
       " '__mod__',\n",
       " '__module__',\n",
       " '__mul__',\n",
       " '__ne__',\n",
       " '__neg__',\n",
       " '__new__',\n",
       " '__nonzero__',\n",
       " '__or__',\n",
       " '__pos__',\n",
       " '__pow__',\n",
       " '__radd__',\n",
       " '__rand__',\n",
       " '__rdiv__',\n",
       " '__reduce__',\n",
       " '__reduce_ex__',\n",
       " '__repr__',\n",
       " '__rfloordiv__',\n",
       " '__rmatmul__',\n",
       " '__rmod__',\n",
       " '__rmul__',\n",
       " '__ror__',\n",
       " '__round__',\n",
       " '__rpow__',\n",
       " '__rsub__',\n",
       " '__rtruediv__',\n",
       " '__rxor__',\n",
       " '__setattr__',\n",
       " '__setitem__',\n",
       " '__setstate__',\n",
       " '__sizeof__',\n",
       " '__str__',\n",
       " '__sub__',\n",
       " '__subclasshook__',\n",
       " '__truediv__',\n",
       " '__weakref__',\n",
       " '__xor__',\n",
       " '_accessors',\n",
       " '_add_numeric_operations',\n",
       " '_add_series_only_operations',\n",
       " '_add_series_or_dataframe_operations',\n",
       " '_agg_by_level',\n",
       " '_agg_examples_doc',\n",
       " '_agg_summary_and_see_also_doc',\n",
       " '_aggregate',\n",
       " '_aggregate_multiple_funcs',\n",
       " '_align_frame',\n",
       " '_align_series',\n",
       " '_box_col_values',\n",
       " '_box_item_values',\n",
       " '_builtin_table',\n",
       " '_check_inplace_setting',\n",
       " '_check_is_chained_assignment_possible',\n",
       " '_check_label_or_level_ambiguity',\n",
       " '_check_percentile',\n",
       " '_check_setitem_copy',\n",
       " '_clear_item_cache',\n",
       " '_clip_with_one_bound',\n",
       " '_clip_with_scalar',\n",
       " '_combine_const',\n",
       " '_combine_frame',\n",
       " '_combine_match_columns',\n",
       " '_combine_match_index',\n",
       " '_consolidate',\n",
       " '_consolidate_inplace',\n",
       " '_construct_axes_dict',\n",
       " '_construct_axes_dict_from',\n",
       " '_construct_axes_from_arguments',\n",
       " '_constructor',\n",
       " '_constructor_expanddim',\n",
       " '_constructor_sliced',\n",
       " '_convert',\n",
       " '_count_level',\n",
       " '_create_indexer',\n",
       " '_cython_table',\n",
       " '_data',\n",
       " '_deprecations',\n",
       " '_dir_additions',\n",
       " '_dir_deletions',\n",
       " '_drop_axis',\n",
       " '_drop_labels_or_levels',\n",
       " '_ensure_valid_index',\n",
       " '_find_valid_index',\n",
       " '_from_arrays',\n",
       " '_from_axes',\n",
       " '_get_agg_axis',\n",
       " '_get_axis',\n",
       " '_get_axis_name',\n",
       " '_get_axis_number',\n",
       " '_get_axis_resolvers',\n",
       " '_get_block_manager_axis',\n",
       " '_get_bool_data',\n",
       " '_get_cacher',\n",
       " '_get_index_resolvers',\n",
       " '_get_item_cache',\n",
       " '_get_label_or_level_values',\n",
       " '_get_numeric_data',\n",
       " '_get_space_character_free_column_resolvers',\n",
       " '_get_value',\n",
       " '_get_values',\n",
       " '_getitem_bool_array',\n",
       " '_getitem_frame',\n",
       " '_getitem_multilevel',\n",
       " '_gotitem',\n",
       " '_iget_item_cache',\n",
       " '_indexed_same',\n",
       " '_info_axis',\n",
       " '_info_axis_name',\n",
       " '_info_axis_number',\n",
       " '_info_repr',\n",
       " '_init_mgr',\n",
       " '_internal_get_values',\n",
       " '_internal_names',\n",
       " '_internal_names_set',\n",
       " '_is_builtin_func',\n",
       " '_is_cached',\n",
       " '_is_copy',\n",
       " '_is_cython_func',\n",
       " '_is_datelike_mixed_type',\n",
       " '_is_homogeneous_type',\n",
       " '_is_label_or_level_reference',\n",
       " '_is_label_reference',\n",
       " '_is_level_reference',\n",
       " '_is_mixed_type',\n",
       " '_is_numeric_mixed_type',\n",
       " '_is_view',\n",
       " '_ix',\n",
       " '_ixs',\n",
       " '_join_compat',\n",
       " '_maybe_cache_changed',\n",
       " '_maybe_update_cacher',\n",
       " '_metadata',\n",
       " '_needs_reindex_multi',\n",
       " '_obj_with_exclusions',\n",
       " '_protect_consolidate',\n",
       " '_reduce',\n",
       " '_reindex_axes',\n",
       " '_reindex_columns',\n",
       " '_reindex_index',\n",
       " '_reindex_multi',\n",
       " '_reindex_with_indexers',\n",
       " '_repr_data_resource_',\n",
       " '_repr_fits_horizontal_',\n",
       " '_repr_fits_vertical_',\n",
       " '_repr_html_',\n",
       " '_repr_latex_',\n",
       " '_reset_cache',\n",
       " '_reset_cacher',\n",
       " '_sanitize_column',\n",
       " '_selected_obj',\n",
       " '_selection',\n",
       " '_selection_list',\n",
       " '_selection_name',\n",
       " '_series',\n",
       " '_set_as_cached',\n",
       " '_set_axis',\n",
       " '_set_axis_name',\n",
       " '_set_is_copy',\n",
       " '_set_item',\n",
       " '_set_value',\n",
       " '_setitem_array',\n",
       " '_setitem_frame',\n",
       " '_setitem_slice',\n",
       " '_setup_axes',\n",
       " '_shallow_copy',\n",
       " '_slice',\n",
       " '_stat_axis',\n",
       " '_stat_axis_name',\n",
       " '_stat_axis_number',\n",
       " '_to_dict_of_blocks',\n",
       " '_try_aggregate_string_function',\n",
       " '_typ',\n",
       " '_unpickle_frame_compat',\n",
       " '_unpickle_matrix_compat',\n",
       " '_update_inplace',\n",
       " '_validate_dtype',\n",
       " '_values',\n",
       " '_where',\n",
       " '_xs',\n",
       " 'abs',\n",
       " 'add',\n",
       " 'add_prefix',\n",
       " 'add_suffix',\n",
       " 'agg',\n",
       " 'aggregate',\n",
       " 'align',\n",
       " 'all',\n",
       " 'any',\n",
       " 'append',\n",
       " 'apply',\n",
       " 'applymap',\n",
       " 'as_matrix',\n",
       " 'asfreq',\n",
       " 'asof',\n",
       " 'assign',\n",
       " 'astype',\n",
       " 'at',\n",
       " 'at_time',\n",
       " 'axes',\n",
       " 'between_time',\n",
       " 'bfill',\n",
       " 'bool',\n",
       " 'boxplot',\n",
       " 'clip',\n",
       " 'clip_lower',\n",
       " 'clip_upper',\n",
       " 'columns',\n",
       " 'combine',\n",
       " 'combine_first',\n",
       " 'compound',\n",
       " 'copy',\n",
       " 'corr',\n",
       " 'corrwith',\n",
       " 'count',\n",
       " 'cov',\n",
       " 'cummax',\n",
       " 'cummin',\n",
       " 'cumprod',\n",
       " 'cumsum',\n",
       " 'describe',\n",
       " 'diff',\n",
       " 'div',\n",
       " 'divide',\n",
       " 'dot',\n",
       " 'drop',\n",
       " 'drop_duplicates',\n",
       " 'droplevel',\n",
       " 'dropna',\n",
       " 'dtypes',\n",
       " 'duplicated',\n",
       " 'empty',\n",
       " 'eq',\n",
       " 'equals',\n",
       " 'eval',\n",
       " 'ewm',\n",
       " 'expanding',\n",
       " 'explode',\n",
       " 'ffill',\n",
       " 'fillna',\n",
       " 'filter',\n",
       " 'first',\n",
       " 'first_valid_index',\n",
       " 'floordiv',\n",
       " 'from_dict',\n",
       " 'from_records',\n",
       " 'ge',\n",
       " 'get',\n",
       " 'get_dtype_counts',\n",
       " 'get_ftype_counts',\n",
       " 'get_values',\n",
       " 'groupby',\n",
       " 'gt',\n",
       " 'head',\n",
       " 'hist',\n",
       " 'iat',\n",
       " 'idxmax',\n",
       " 'idxmin',\n",
       " 'iloc',\n",
       " 'index',\n",
       " 'infer_objects',\n",
       " 'info',\n",
       " 'insert',\n",
       " 'interpolate',\n",
       " 'isin',\n",
       " 'isna',\n",
       " 'isnull',\n",
       " 'items',\n",
       " 'iteritems',\n",
       " 'iterrows',\n",
       " 'itertuples',\n",
       " 'join',\n",
       " 'keys',\n",
       " 'kurt',\n",
       " 'kurtosis',\n",
       " 'last',\n",
       " 'last_valid_index',\n",
       " 'le',\n",
       " 'loc',\n",
       " 'lookup',\n",
       " 'lt',\n",
       " 'mad',\n",
       " 'mask',\n",
       " 'max',\n",
       " 'mean',\n",
       " 'median',\n",
       " 'melt',\n",
       " 'memory_usage',\n",
       " 'merge',\n",
       " 'min',\n",
       " 'mod',\n",
       " 'mode',\n",
       " 'mul',\n",
       " 'multiply',\n",
       " 'ndim',\n",
       " 'ne',\n",
       " 'nlargest',\n",
       " 'notna',\n",
       " 'notnull',\n",
       " 'nsmallest',\n",
       " 'nunique',\n",
       " 'pct_change',\n",
       " 'pipe',\n",
       " 'pivot',\n",
       " 'pivot_table',\n",
       " 'plot',\n",
       " 'pop',\n",
       " 'pow',\n",
       " 'prod',\n",
       " 'product',\n",
       " 'quantile',\n",
       " 'query',\n",
       " 'radd',\n",
       " 'rank',\n",
       " 'rdiv',\n",
       " 'reindex',\n",
       " 'reindex_like',\n",
       " 'rename',\n",
       " 'rename_axis',\n",
       " 'reorder_levels',\n",
       " 'replace',\n",
       " 'resample',\n",
       " 'reset_index',\n",
       " 'rfloordiv',\n",
       " 'rmod',\n",
       " 'rmul',\n",
       " 'rolling',\n",
       " 'round',\n",
       " 'rpow',\n",
       " 'rsub',\n",
       " 'rtruediv',\n",
       " 'sample',\n",
       " 'select_dtypes',\n",
       " 'sem',\n",
       " 'set_axis',\n",
       " 'set_index',\n",
       " 'shape',\n",
       " 'shift',\n",
       " 'size',\n",
       " 'skew',\n",
       " 'slice_shift',\n",
       " 'sort_index',\n",
       " 'sort_values',\n",
       " 'sparse',\n",
       " 'squeeze',\n",
       " 'stack',\n",
       " 'std',\n",
       " 'style',\n",
       " 'sub',\n",
       " 'subtract',\n",
       " 'sum',\n",
       " 'swapaxes',\n",
       " 'swaplevel',\n",
       " 'tail',\n",
       " 'take',\n",
       " 'to_clipboard',\n",
       " 'to_csv',\n",
       " 'to_dense',\n",
       " 'to_dict',\n",
       " 'to_excel',\n",
       " 'to_feather',\n",
       " 'to_gbq',\n",
       " 'to_hdf',\n",
       " 'to_html',\n",
       " 'to_json',\n",
       " 'to_latex',\n",
       " 'to_msgpack',\n",
       " 'to_numpy',\n",
       " 'to_parquet',\n",
       " 'to_period',\n",
       " 'to_pickle',\n",
       " 'to_records',\n",
       " 'to_sparse',\n",
       " 'to_sql',\n",
       " 'to_stata',\n",
       " 'to_string',\n",
       " 'to_timestamp',\n",
       " 'to_xarray',\n",
       " 'transform',\n",
       " 'transpose',\n",
       " 'truediv',\n",
       " 'truncate',\n",
       " 'tshift',\n",
       " 'tz_convert',\n",
       " 'tz_localize',\n",
       " 'unstack',\n",
       " 'update',\n",
       " 'values',\n",
       " 'var',\n",
       " 'where',\n",
       " 'xs']"
      ]
     },
     "execution_count": 3,
     "metadata": {},
     "output_type": "execute_result"
    }
   ],
   "source": [
    "# now let's check out what else we can do with the dataframe\n",
    "# dir() can be used with any object in python and is very useful for exploring \n",
    "# functionality of a package\n",
    "dir(real_gdp)"
   ]
  },
  {
   "cell_type": "markdown",
   "metadata": {},
   "source": [
    "We note a few things about our GDP data frame as it currently stands that need fixed:\n",
    "* Bold indicates index(row names)/columns - it has a generic index (which starts at 0, as all python indexing does) but we prefer this to be the date column\n",
    "* We haven't seen yet - but our date column is actually strings of the date -  we want to change this to a datetime format to avoid issues later on (none specifically, just best practice)\n",
    "\n"
   ]
  },
  {
   "cell_type": "code",
   "execution_count": 4,
   "metadata": {},
   "outputs": [
    {
     "data": {
      "text/html": [
       "<div>\n",
       "<style scoped>\n",
       "    .dataframe tbody tr th:only-of-type {\n",
       "        vertical-align: middle;\n",
       "    }\n",
       "\n",
       "    .dataframe tbody tr th {\n",
       "        vertical-align: top;\n",
       "    }\n",
       "\n",
       "    .dataframe thead th {\n",
       "        text-align: right;\n",
       "    }\n",
       "</style>\n",
       "<table border=\"1\" class=\"dataframe\">\n",
       "  <thead>\n",
       "    <tr style=\"text-align: right;\">\n",
       "      <th></th>\n",
       "      <th>GDPC1</th>\n",
       "    </tr>\n",
       "    <tr>\n",
       "      <th>DATE</th>\n",
       "      <th></th>\n",
       "    </tr>\n",
       "  </thead>\n",
       "  <tbody>\n",
       "    <tr>\n",
       "      <th>1947-01-01</th>\n",
       "      <td>2033.061</td>\n",
       "    </tr>\n",
       "    <tr>\n",
       "      <th>1947-04-01</th>\n",
       "      <td>2027.639</td>\n",
       "    </tr>\n",
       "    <tr>\n",
       "      <th>1947-07-01</th>\n",
       "      <td>2023.452</td>\n",
       "    </tr>\n",
       "    <tr>\n",
       "      <th>1947-10-01</th>\n",
       "      <td>2055.103</td>\n",
       "    </tr>\n",
       "    <tr>\n",
       "      <th>1948-01-01</th>\n",
       "      <td>2086.017</td>\n",
       "    </tr>\n",
       "  </tbody>\n",
       "</table>\n",
       "</div>"
      ],
      "text/plain": [
       "               GDPC1\n",
       "DATE                \n",
       "1947-01-01  2033.061\n",
       "1947-04-01  2027.639\n",
       "1947-07-01  2023.452\n",
       "1947-10-01  2055.103\n",
       "1948-01-01  2086.017"
      ]
     },
     "execution_count": 4,
     "metadata": {},
     "output_type": "execute_result"
    }
   ],
   "source": [
    "# note we make changes to our dataframe - so we make a copy of it, thus later in the \n",
    "# code we can refer back to the original if need be. while not important in this \n",
    "# example, if you are loading in huge dataframes - it is advisable not to write over\n",
    "# the original load because often loading the data takes longer than the computation\n",
    "data = real_gdp.set_index(pd.to_datetime(real_gdp['DATE']))\n",
    "data = data.drop('DATE', axis = 1)\n",
    "data.head()"
   ]
  },
  {
   "cell_type": "markdown",
   "metadata": {},
   "source": [
    "We're going to be loading a few data frames from csv and we will need to do these same steps for each of them. Whenever there's a repeated process in our data pipeline such as this, it is advisable to make it into a function so we can simplify our main script.\n"
   ]
  },
  {
   "cell_type": "code",
   "execution_count": 5,
   "metadata": {},
   "outputs": [],
   "source": [
    "# note - I've used an alternative method for changing the index in the function below \n",
    "# note - since this data is small size and fast to load, I've included the data load \n",
    "# step in the function but for bigger datasets, this would not be advisable like we \n",
    "# discussed earlier\n",
    "def preprocess(data):\n",
    "    data = pd.read_csv(data)\n",
    "    data.index = pd.to_datetime(data['DATE'])\n",
    "    data = data.drop('DATE', axis = 1)\n",
    "    return data"
   ]
  },
  {
   "cell_type": "code",
   "execution_count": 6,
   "metadata": {},
   "outputs": [
    {
     "data": {
      "text/html": [
       "<div>\n",
       "<style scoped>\n",
       "    .dataframe tbody tr th:only-of-type {\n",
       "        vertical-align: middle;\n",
       "    }\n",
       "\n",
       "    .dataframe tbody tr th {\n",
       "        vertical-align: top;\n",
       "    }\n",
       "\n",
       "    .dataframe thead th {\n",
       "        text-align: right;\n",
       "    }\n",
       "</style>\n",
       "<table border=\"1\" class=\"dataframe\">\n",
       "  <thead>\n",
       "    <tr style=\"text-align: right;\">\n",
       "      <th></th>\n",
       "      <th>PCEC96</th>\n",
       "    </tr>\n",
       "    <tr>\n",
       "      <th>DATE</th>\n",
       "      <th></th>\n",
       "    </tr>\n",
       "  </thead>\n",
       "  <tbody>\n",
       "    <tr>\n",
       "      <th>2002-01-01</th>\n",
       "      <td>8981.7</td>\n",
       "    </tr>\n",
       "    <tr>\n",
       "      <th>2002-02-01</th>\n",
       "      <td>9022.0</td>\n",
       "    </tr>\n",
       "    <tr>\n",
       "      <th>2002-03-01</th>\n",
       "      <td>9020.6</td>\n",
       "    </tr>\n",
       "    <tr>\n",
       "      <th>2002-04-01</th>\n",
       "      <td>9066.3</td>\n",
       "    </tr>\n",
       "    <tr>\n",
       "      <th>2002-05-01</th>\n",
       "      <td>9031.8</td>\n",
       "    </tr>\n",
       "  </tbody>\n",
       "</table>\n",
       "</div>"
      ],
      "text/plain": [
       "            PCEC96\n",
       "DATE              \n",
       "2002-01-01  8981.7\n",
       "2002-02-01  9022.0\n",
       "2002-03-01  9020.6\n",
       "2002-04-01  9066.3\n",
       "2002-05-01  9031.8"
      ]
     },
     "execution_count": 6,
     "metadata": {},
     "output_type": "execute_result"
    }
   ],
   "source": [
    "pce = preprocess('PCEC96.csv')\n",
    "disposable_per_capita = preprocess('A229RX0.csv')\n",
    "disposable = preprocess('DSPIC96.csv')\n",
    "gdp = preprocess('GDPC1.csv')\n",
    "pce.head()"
   ]
  },
  {
   "cell_type": "markdown",
   "metadata": {},
   "source": [
    "Note the above data for PCE was monthly while GDP was quarterly - we'll see one wawy to account for this later."
   ]
  },
  {
   "cell_type": "markdown",
   "metadata": {},
   "source": [
    "### Part 2: Yfinance\n",
    "Now let's look into loading stock prices, Microsoft is a fun case study! Note you can change the ticker inside the first line of the below cell to change our analysis to any ticker that you can find info for on Yahoo! Finance."
   ]
  },
  {
   "cell_type": "code",
   "execution_count": 7,
   "metadata": {},
   "outputs": [
    {
     "data": {
      "text/plain": [
       "{'zip': '98052',\n",
       " 'sector': 'Technology',\n",
       " 'fullTimeEmployees': 144000,\n",
       " 'longBusinessSummary': 'Microsoft Corporation develops, licenses, and supports software, services, devices, and solutions worldwide. Its Productivity and Business Processes segment offers Office, Exchange, SharePoint, Microsoft Teams, Office 365 Security and Compliance, and Skype for Business, as well as related Client Access Licenses (CAL); Skype, Outlook.com, and OneDrive; LinkedIn that includes Talent and marketing solutions, and subscriptions; and Dynamics 365, a set of cloud-based and on-premises business solutions for small and medium businesses, large organizations, and divisions of enterprises. Its Intelligent Cloud segment licenses SQL and Windows Servers, Visual Studio, System Center, and related CALs; GitHub that provides a collaboration platform and code hosting service for developers; and Azure, a cloud platform. It also provides support services and Microsoft consulting services to assist customers in developing, deploying, and managing Microsoft server and desktop solutions; and training and certification to developers and IT professionals on various Microsoft products. Its More Personal Computing segment offers Windows OEM licensing and other non-volume licensing of the Windows operating system; Windows Commercial, such as volume licensing of the Windows operating system, Windows cloud services, and other Windows commercial offerings; patent licensing; Windows Internet of Things; and MSN advertising. It also provides Microsoft Surface, PC accessories, and other intelligent devices; Gaming, including Xbox hardware, and Xbox software and services; video games and third-party video game royalties; and Search, including Bing and Microsoft advertising. It sells its products through distributors and resellers; and directly through digital marketplaces, online stores, and retail stores. It has strategic partnerships with Humana Inc., Nokia, Telkomsel, Swiss Re, Kubota Corporation, and FedEx Corp. The company was founded in 1975 and is headquartered in Redmond, Washington.',\n",
       " 'city': 'Redmond',\n",
       " 'phone': '425-882-8080',\n",
       " 'state': 'WA',\n",
       " 'country': 'United States',\n",
       " 'companyOfficers': [],\n",
       " 'website': 'http://www.microsoft.com',\n",
       " 'maxAge': 1,\n",
       " 'address1': 'One Microsoft Way',\n",
       " 'fax': '425-706-7329',\n",
       " 'industry': 'Software—Infrastructure',\n",
       " 'previousClose': 184.91,\n",
       " 'regularMarketOpen': 184.815,\n",
       " 'twoHundredDayAverage': 165.58823,\n",
       " 'trailingAnnualDividendYield': 0.010221188,\n",
       " 'payoutRatio': 0.3233,\n",
       " 'volume24Hr': None,\n",
       " 'regularMarketDayHigh': 185.93,\n",
       " 'navPrice': None,\n",
       " 'averageDailyVolume10Day': 34153866,\n",
       " 'totalAssets': None,\n",
       " 'regularMarketPreviousClose': 184.91,\n",
       " 'fiftyDayAverage': 179.39085,\n",
       " 'trailingAnnualDividendRate': 1.89,\n",
       " 'open': 184.815,\n",
       " 'toCurrency': None,\n",
       " 'averageVolume10days': 34153866,\n",
       " 'expireDate': None,\n",
       " 'yield': None,\n",
       " 'algorithm': None,\n",
       " 'dividendRate': 2.04,\n",
       " 'exDividendDate': 1589932800,\n",
       " 'beta': 1.229326,\n",
       " 'circulatingSupply': None,\n",
       " 'startDate': None,\n",
       " 'regularMarketDayLow': 183.58,\n",
       " 'priceHint': 2,\n",
       " 'currency': 'USD',\n",
       " 'trailingPE': 34.973583,\n",
       " 'regularMarketVolume': 25838439,\n",
       " 'lastMarket': None,\n",
       " 'maxSupply': None,\n",
       " 'openInterest': None,\n",
       " 'marketCap': 1405666459648,\n",
       " 'volumeAllCurrencies': None,\n",
       " 'strikePrice': None,\n",
       " 'averageVolume': 51070178,\n",
       " 'priceToSalesTrailing12Months': 10.828311,\n",
       " 'dayLow': 183.58,\n",
       " 'ask': 184.6,\n",
       " 'ytdReturn': None,\n",
       " 'askSize': 900,\n",
       " 'volume': 25838439,\n",
       " 'fiftyTwoWeekHigh': 190.7,\n",
       " 'forwardPE': 29.84863,\n",
       " 'fromCurrency': None,\n",
       " 'fiveYearAvgDividendYield': 1.92,\n",
       " 'fiftyTwoWeekLow': 124.21,\n",
       " 'bid': 184.42,\n",
       " 'tradeable': False,\n",
       " 'dividendYield': 0.011,\n",
       " 'bidSize': 1100,\n",
       " 'dayHigh': 185.93,\n",
       " 'exchange': 'NMS',\n",
       " 'shortName': 'Microsoft Corporation',\n",
       " 'longName': 'Microsoft Corporation',\n",
       " 'exchangeTimezoneName': 'America/New_York',\n",
       " 'exchangeTimezoneShortName': 'EDT',\n",
       " 'isEsgPopulated': False,\n",
       " 'gmtOffSetMilliseconds': '-14400000',\n",
       " 'quoteType': 'EQUITY',\n",
       " 'symbol': 'MSFT',\n",
       " 'messageBoardId': 'finmb_21835',\n",
       " 'market': 'us_market',\n",
       " 'annualHoldingsTurnover': None,\n",
       " 'enterpriseToRevenue': 10.46,\n",
       " 'beta3Year': None,\n",
       " 'profitMargins': 0.31656,\n",
       " 'enterpriseToEbitda': 23.646,\n",
       " '52WeekChange': 0.46952236,\n",
       " 'morningStarRiskRating': None,\n",
       " 'forwardEps': 6.21,\n",
       " 'revenueQuarterlyGrowth': None,\n",
       " 'sharesOutstanding': 7583439872,\n",
       " 'fundInceptionDate': None,\n",
       " 'annualReportExpenseRatio': None,\n",
       " 'bookValue': 13.893,\n",
       " 'sharesShort': 44236712,\n",
       " 'sharesPercentSharesOut': 0.0058,\n",
       " 'fundFamily': None,\n",
       " 'lastFiscalYearEnd': 1561852800,\n",
       " 'heldPercentInstitutions': 0.74093,\n",
       " 'netIncomeToCommon': 41094000640,\n",
       " 'trailingEps': 5.3,\n",
       " 'lastDividendValue': None,\n",
       " 'SandP52WeekChange': 0.09011209,\n",
       " 'priceToBook': 13.341971,\n",
       " 'heldPercentInsiders': 0.014249999,\n",
       " 'nextFiscalYearEnd': 1625011200,\n",
       " 'mostRecentQuarter': 1569801600,\n",
       " 'shortRatio': 1.12,\n",
       " 'sharesShortPreviousMonthDate': 1586908800,\n",
       " 'floatShares': 7517653920,\n",
       " 'enterpriseValue': 1357848772608,\n",
       " 'threeYearAverageReturn': None,\n",
       " 'lastSplitDate': 1045526400,\n",
       " 'lastSplitFactor': '2:1',\n",
       " 'legalType': None,\n",
       " 'morningStarOverallRating': None,\n",
       " 'earningsQuarterlyGrowth': 0.21,\n",
       " 'dateShortInterest': 1589500800,\n",
       " 'pegRatio': 2.14,\n",
       " 'lastCapGain': None,\n",
       " 'shortPercentOfFloat': 0.0058999998,\n",
       " 'sharesShortPriorMonth': 53310482,\n",
       " 'category': None,\n",
       " 'fiveYearAverageReturn': None,\n",
       " 'regularMarketPrice': 184.815,\n",
       " 'logo_url': 'https://logo.clearbit.com/microsoft.com'}"
      ]
     },
     "execution_count": 7,
     "metadata": {},
     "output_type": "execute_result"
    }
   ],
   "source": [
    "msft = yf.Ticker(\"MSFT\")\n",
    "msft.info"
   ]
  },
  {
   "cell_type": "code",
   "execution_count": 8,
   "metadata": {},
   "outputs": [],
   "source": [
    "# ![](https://logo.clearbit.com/microsoft.com)"
   ]
  },
  {
   "cell_type": "code",
   "execution_count": 9,
   "metadata": {},
   "outputs": [
    {
     "data": {
      "text/html": [
       "<div>\n",
       "<style scoped>\n",
       "    .dataframe tbody tr th:only-of-type {\n",
       "        vertical-align: middle;\n",
       "    }\n",
       "\n",
       "    .dataframe tbody tr th {\n",
       "        vertical-align: top;\n",
       "    }\n",
       "\n",
       "    .dataframe thead th {\n",
       "        text-align: right;\n",
       "    }\n",
       "</style>\n",
       "<table border=\"1\" class=\"dataframe\">\n",
       "  <thead>\n",
       "    <tr style=\"text-align: right;\">\n",
       "      <th></th>\n",
       "      <th>Open</th>\n",
       "      <th>High</th>\n",
       "      <th>Low</th>\n",
       "      <th>Close</th>\n",
       "      <th>Volume</th>\n",
       "      <th>Dividends</th>\n",
       "      <th>Stock Splits</th>\n",
       "    </tr>\n",
       "    <tr>\n",
       "      <th>Date</th>\n",
       "      <th></th>\n",
       "      <th></th>\n",
       "      <th></th>\n",
       "      <th></th>\n",
       "      <th></th>\n",
       "      <th></th>\n",
       "      <th></th>\n",
       "    </tr>\n",
       "  </thead>\n",
       "  <tbody>\n",
       "    <tr>\n",
       "      <th>1986-03-13</th>\n",
       "      <td>0.06</td>\n",
       "      <td>0.06</td>\n",
       "      <td>0.06</td>\n",
       "      <td>0.06</td>\n",
       "      <td>1031788800</td>\n",
       "      <td>0.0</td>\n",
       "      <td>0.0</td>\n",
       "    </tr>\n",
       "    <tr>\n",
       "      <th>1986-03-14</th>\n",
       "      <td>0.06</td>\n",
       "      <td>0.07</td>\n",
       "      <td>0.06</td>\n",
       "      <td>0.06</td>\n",
       "      <td>308160000</td>\n",
       "      <td>0.0</td>\n",
       "      <td>0.0</td>\n",
       "    </tr>\n",
       "    <tr>\n",
       "      <th>1986-03-17</th>\n",
       "      <td>0.06</td>\n",
       "      <td>0.07</td>\n",
       "      <td>0.06</td>\n",
       "      <td>0.07</td>\n",
       "      <td>133171200</td>\n",
       "      <td>0.0</td>\n",
       "      <td>0.0</td>\n",
       "    </tr>\n",
       "    <tr>\n",
       "      <th>1986-03-18</th>\n",
       "      <td>0.07</td>\n",
       "      <td>0.07</td>\n",
       "      <td>0.06</td>\n",
       "      <td>0.06</td>\n",
       "      <td>67766400</td>\n",
       "      <td>0.0</td>\n",
       "      <td>0.0</td>\n",
       "    </tr>\n",
       "    <tr>\n",
       "      <th>1986-03-19</th>\n",
       "      <td>0.06</td>\n",
       "      <td>0.06</td>\n",
       "      <td>0.06</td>\n",
       "      <td>0.06</td>\n",
       "      <td>47894400</td>\n",
       "      <td>0.0</td>\n",
       "      <td>0.0</td>\n",
       "    </tr>\n",
       "  </tbody>\n",
       "</table>\n",
       "</div>"
      ],
      "text/plain": [
       "            Open  High   Low  Close      Volume  Dividends  Stock Splits\n",
       "Date                                                                    \n",
       "1986-03-13  0.06  0.06  0.06   0.06  1031788800        0.0           0.0\n",
       "1986-03-14  0.06  0.07  0.06   0.06   308160000        0.0           0.0\n",
       "1986-03-17  0.06  0.07  0.06   0.07   133171200        0.0           0.0\n",
       "1986-03-18  0.07  0.07  0.06   0.06    67766400        0.0           0.0\n",
       "1986-03-19  0.06  0.06  0.06   0.06    47894400        0.0           0.0"
      ]
     },
     "execution_count": 9,
     "metadata": {},
     "output_type": "execute_result"
    }
   ],
   "source": [
    "# get historical market data\n",
    "hist = msft.history(period = 'max')\n",
    "hist.head()"
   ]
  },
  {
   "cell_type": "markdown",
   "metadata": {},
   "source": [
    "### Part 3: Visualization with Matplotlib\n",
    "Here we introduce matplotlib, which has been the dominant plotting engine in Python for some time. Their website, linked above, has a great catalog of sample graphs and is a great place to start when using a certain type of graph for the first time."
   ]
  },
  {
   "cell_type": "code",
   "execution_count": 10,
   "metadata": {},
   "outputs": [
    {
     "data": {
      "image/png": "[encoded data removed]",
      "text/plain": [
       "<Figure size 432x288 with 1 Axes>"
      ]
     },
     "metadata": {
      "needs_background": "light"
     },
     "output_type": "display_data"
    }
   ],
   "source": [
    "%matplotlib inline\n",
    "hist['Close'].plot()\n",
    "plt.title('Microsoft Stock Price - Full History')\n",
    "plt.ylabel('Stock Price')\n",
    "plt.savefig('Microsoft.png')"
   ]
  },
  {
   "cell_type": "markdown",
   "metadata": {},
   "source": [
    "Clearly the above data series is not stationary - a critical assumption of ols, so lets calculate a percentage growth rate for stock price and perhaps this will be a \n",
    "more useful variable to model on\n",
    "\n"
   ]
  },
  {
   "cell_type": "code",
   "execution_count": 11,
   "metadata": {},
   "outputs": [
    {
     "data": {
      "text/plain": [
       "Text(0, 0.5, 'Stock Price')"
      ]
     },
     "execution_count": 11,
     "metadata": {},
     "output_type": "execute_result"
    },
    {
     "data": {
      "image/png": "[encoded data removed]",
      "text/plain": [
       "<Figure size 432x288 with 1 Axes>"
      ]
     },
     "metadata": {
      "needs_background": "light"
     },
     "output_type": "display_data"
    }
   ],
   "source": [
    "# note - we use .dropna() to remove the first data point for which the formula cannot \n",
    "# calculate \n",
    "price_growth = (hist['Close'].diff()/hist['Close'].shift(1)).dropna()\n",
    "# we create a plot of the growth over time\n",
    "price_growth.plot()\n",
    "plt.title('Microsoft Stock Price % Growth - Full History')\n",
    "plt.ylabel('Stock Price')\n"
   ]
  },
  {
   "cell_type": "code",
   "execution_count": 12,
   "metadata": {},
   "outputs": [
    {
     "data": {
      "text/plain": [
       "<matplotlib.axes._subplots.AxesSubplot at 0x12ac19a90>"
      ]
     },
     "execution_count": 12,
     "metadata": {},
     "output_type": "execute_result"
    },
    {
     "data": {
      "image/png": "[encoded data removed]",
      "text/plain": [
       "<Figure size 432x288 with 1 Axes>"
      ]
     },
     "metadata": {
      "needs_background": "light"
     },
     "output_type": "display_data"
    }
   ],
   "source": [
    "price_diff = hist['Close'].diff().dropna()\n",
    "price_diff.plot()"
   ]
  },
  {
   "cell_type": "markdown",
   "metadata": {},
   "source": [
    "Between the two graphs, we can see that the percentage difference is much more random-walk like. As changes in price get greater as the price itself gets greater, causing some heteroskedasticity concerns. Thus % difference will be our preferred dependent variable for the model. "
   ]
  },
  {
   "cell_type": "markdown",
   "metadata": {},
   "source": [
    "We'll start by building a model on GDP, since it is generally a great economic indicator. Let's explore this variable in a similar way to how we explored our stock price."
   ]
  },
  {
   "cell_type": "code",
   "execution_count": 13,
   "metadata": {},
   "outputs": [
    {
     "data": {
      "text/plain": [
       "Text(0, 0.5, 'Stock Price')"
      ]
     },
     "execution_count": 13,
     "metadata": {},
     "output_type": "execute_result"
    },
    {
     "data": {
      "image/png": "[encoded data removed]",
      "text/plain": [
       "<Figure size 432x288 with 1 Axes>"
      ]
     },
     "metadata": {
      "needs_background": "light"
     },
     "output_type": "display_data"
    }
   ],
   "source": [
    "# note - we use .dropna() to remove the first data point for which the formula cannot \n",
    "# calculate \n",
    "gdp_growth = (gdp['GDPC1'].diff()/gdp['GDPC1'].shift(1)).dropna()\n",
    "# we create a plot of the growth over time\n",
    "gdp_growth.plot()\n",
    "plt.title('Real GDP % Growth - Full History')\n",
    "plt.ylabel('Stock Price')"
   ]
  },
  {
   "cell_type": "markdown",
   "metadata": {},
   "source": [
    "We see that this is good, however we may have some heteroskedasticity (non-constant variance) concerns as the earlier part of the data series shows higher peaks and valleys than the later part. While heteroskedasticity concerns the residuals, we note that stock price is not an adjusted weight, whereas our macroeconomics variables are represented as inflation adjusted, calculated based off a base year (2012 in our case). Thus we should check if differencing would be a more promising approach."
   ]
  },
  {
   "cell_type": "code",
   "execution_count": 14,
   "metadata": {},
   "outputs": [
    {
     "data": {
      "text/plain": [
       "<matplotlib.axes._subplots.AxesSubplot at 0x12d898350>"
      ]
     },
     "execution_count": 14,
     "metadata": {},
     "output_type": "execute_result"
    },
    {
     "data": {
      "image/png": "[encoded data removed]",
      "text/plain": [
       "<Figure size 432x288 with 1 Axes>"
      ]
     },
     "metadata": {
      "needs_background": "light"
     },
     "output_type": "display_data"
    }
   ],
   "source": [
    "gdp_diff = gdp['GDPC1'].diff().dropna()\n",
    "gdp_diff.plot()"
   ]
  },
  {
   "cell_type": "markdown",
   "metadata": {},
   "source": [
    "This looks a bit more like a random walk so we will proceed to model based off this."
   ]
  },
  {
   "cell_type": "markdown",
   "metadata": {},
   "source": [
    "### Part 4: Modeling with statsmodels\n",
    "We will try to build a simple model with real gdp as our independent variable predicting the stock price. We will add an intercept as well. Our first step is to prepare the data to pass to OLS. We will see this is generally the bulk of the work, as producing the model is very simple using statsmodels. First let's take a look at our two dataframes.\n",
    "\n"
   ]
  },
  {
   "cell_type": "code",
   "execution_count": 15,
   "metadata": {},
   "outputs": [
    {
     "data": {
      "text/plain": [
       "Date\n",
       "1986-03-14    0.000000\n",
       "1986-03-17    0.166667\n",
       "1986-03-18   -0.142857\n",
       "1986-03-19    0.000000\n",
       "1986-03-20    0.000000\n",
       "                ...   \n",
       "2020-05-28   -0.002255\n",
       "2020-05-29    0.010198\n",
       "2020-06-01   -0.002292\n",
       "2020-06-02    0.011377\n",
       "2020-06-03    0.002434\n",
       "Name: Close, Length: 8626, dtype: float64"
      ]
     },
     "metadata": {},
     "output_type": "display_data"
    },
    {
     "data": {
      "text/plain": [
       "DATE\n",
       "1947-04-01     -5.422\n",
       "1947-07-01     -4.187\n",
       "1947-10-01     31.651\n",
       "1948-01-01     30.914\n",
       "1948-04-01     34.433\n",
       "               ...   \n",
       "2019-01-01    143.733\n",
       "2019-04-01     94.579\n",
       "2019-07-01     99.252\n",
       "2019-10-01    100.858\n",
       "2020-01-01   -247.268\n",
       "Name: GDPC1, Length: 292, dtype: float64"
      ]
     },
     "metadata": {},
     "output_type": "display_data"
    }
   ],
   "source": [
    "# note display is specific to the jupyter notebook, use print for any python script\n",
    "# to print to the python console/terminal, depending how you execute the script\n",
    "display(price_growth)\n",
    "display(gdp_diff)"
   ]
  },
  {
   "cell_type": "markdown",
   "metadata": {},
   "source": [
    "There's some problems for us to solve here. We note that the stock price dataframe has closing prices for all business days since 1986, while the GDP data frame has quarterly measures from 1947. Lets begin by finding the closing price for each quarter for the stock so that it will match up similar to the representation of GDP. We also note that GDP is indexed by the beginning of each quarter's date, so we will have to align this as well so that we can clearly represent our dataframes and confirm we have successfully aligned the data."
   ]
  },
  {
   "cell_type": "code",
   "execution_count": 16,
   "metadata": {},
   "outputs": [
    {
     "data": {
      "text/plain": [
       "[Timestamp('1986-03-31 00:00:00'),\n",
       " Timestamp('1986-06-30 00:00:00'),\n",
       " Timestamp('1986-09-30 00:00:00'),\n",
       " Timestamp('1986-12-31 00:00:00'),\n",
       " Timestamp('1987-03-31 00:00:00'),\n",
       " Timestamp('1987-06-30 00:00:00'),\n",
       " Timestamp('1987-09-30 00:00:00'),\n",
       " Timestamp('1987-12-31 00:00:00'),\n",
       " Timestamp('1988-03-31 00:00:00'),\n",
       " Timestamp('1988-06-30 00:00:00'),\n",
       " Timestamp('1988-09-30 00:00:00'),\n",
       " Timestamp('1988-12-30 00:00:00'),\n",
       " Timestamp('1989-03-31 00:00:00'),\n",
       " Timestamp('1989-06-30 00:00:00'),\n",
       " Timestamp('1989-09-29 00:00:00'),\n",
       " Timestamp('1989-12-29 00:00:00'),\n",
       " Timestamp('1990-03-30 00:00:00'),\n",
       " Timestamp('1990-06-29 00:00:00'),\n",
       " Timestamp('1990-09-28 00:00:00'),\n",
       " Timestamp('1990-12-31 00:00:00'),\n",
       " Timestamp('1991-03-28 00:00:00'),\n",
       " Timestamp('1991-06-28 00:00:00'),\n",
       " Timestamp('1991-09-30 00:00:00'),\n",
       " Timestamp('1991-12-31 00:00:00'),\n",
       " Timestamp('1992-03-31 00:00:00'),\n",
       " Timestamp('1992-06-30 00:00:00'),\n",
       " Timestamp('1992-09-30 00:00:00'),\n",
       " Timestamp('1992-12-31 00:00:00'),\n",
       " Timestamp('1993-03-31 00:00:00'),\n",
       " Timestamp('1993-06-30 00:00:00'),\n",
       " Timestamp('1993-09-30 00:00:00'),\n",
       " Timestamp('1993-12-31 00:00:00'),\n",
       " Timestamp('1994-03-31 00:00:00'),\n",
       " Timestamp('1994-06-30 00:00:00'),\n",
       " Timestamp('1994-09-30 00:00:00'),\n",
       " Timestamp('1994-12-30 00:00:00'),\n",
       " Timestamp('1995-03-31 00:00:00'),\n",
       " Timestamp('1995-06-30 00:00:00'),\n",
       " Timestamp('1995-09-29 00:00:00'),\n",
       " Timestamp('1995-12-29 00:00:00'),\n",
       " Timestamp('1996-03-29 00:00:00'),\n",
       " Timestamp('1996-06-28 00:00:00'),\n",
       " Timestamp('1996-09-30 00:00:00'),\n",
       " Timestamp('1996-12-31 00:00:00'),\n",
       " Timestamp('1997-03-31 00:00:00'),\n",
       " Timestamp('1997-06-30 00:00:00'),\n",
       " Timestamp('1997-09-30 00:00:00'),\n",
       " Timestamp('1997-12-31 00:00:00'),\n",
       " Timestamp('1998-03-31 00:00:00'),\n",
       " Timestamp('1998-06-30 00:00:00'),\n",
       " Timestamp('1998-09-30 00:00:00'),\n",
       " Timestamp('1998-12-31 00:00:00'),\n",
       " Timestamp('1999-03-31 00:00:00'),\n",
       " Timestamp('1999-06-30 00:00:00'),\n",
       " Timestamp('1999-09-30 00:00:00'),\n",
       " Timestamp('1999-12-31 00:00:00'),\n",
       " Timestamp('2000-03-31 00:00:00'),\n",
       " Timestamp('2000-06-30 00:00:00'),\n",
       " Timestamp('2000-09-29 00:00:00'),\n",
       " Timestamp('2000-12-29 00:00:00'),\n",
       " Timestamp('2001-03-30 00:00:00'),\n",
       " Timestamp('2001-06-29 00:00:00'),\n",
       " Timestamp('2001-09-28 00:00:00'),\n",
       " Timestamp('2001-12-31 00:00:00'),\n",
       " Timestamp('2002-03-28 00:00:00'),\n",
       " Timestamp('2002-06-28 00:00:00'),\n",
       " Timestamp('2002-09-30 00:00:00'),\n",
       " Timestamp('2002-12-31 00:00:00'),\n",
       " Timestamp('2003-03-31 00:00:00'),\n",
       " Timestamp('2003-06-30 00:00:00'),\n",
       " Timestamp('2003-09-30 00:00:00'),\n",
       " Timestamp('2003-12-31 00:00:00'),\n",
       " Timestamp('2004-03-31 00:00:00'),\n",
       " Timestamp('2004-06-30 00:00:00'),\n",
       " Timestamp('2004-09-30 00:00:00'),\n",
       " Timestamp('2004-12-31 00:00:00'),\n",
       " Timestamp('2005-03-31 00:00:00'),\n",
       " Timestamp('2005-06-30 00:00:00'),\n",
       " Timestamp('2005-09-30 00:00:00'),\n",
       " Timestamp('2005-12-30 00:00:00'),\n",
       " Timestamp('2006-03-31 00:00:00'),\n",
       " Timestamp('2006-06-30 00:00:00'),\n",
       " Timestamp('2006-09-29 00:00:00'),\n",
       " Timestamp('2006-12-29 00:00:00'),\n",
       " Timestamp('2007-03-30 00:00:00'),\n",
       " Timestamp('2007-06-29 00:00:00'),\n",
       " Timestamp('2007-09-28 00:00:00'),\n",
       " Timestamp('2007-12-31 00:00:00'),\n",
       " Timestamp('2008-03-31 00:00:00'),\n",
       " Timestamp('2008-06-30 00:00:00'),\n",
       " Timestamp('2008-09-30 00:00:00'),\n",
       " Timestamp('2008-12-31 00:00:00'),\n",
       " Timestamp('2009-03-31 00:00:00'),\n",
       " Timestamp('2009-06-30 00:00:00'),\n",
       " Timestamp('2009-09-30 00:00:00'),\n",
       " Timestamp('2009-12-31 00:00:00'),\n",
       " Timestamp('2010-03-31 00:00:00'),\n",
       " Timestamp('2010-06-30 00:00:00'),\n",
       " Timestamp('2010-09-30 00:00:00'),\n",
       " Timestamp('2010-12-31 00:00:00'),\n",
       " Timestamp('2011-03-31 00:00:00'),\n",
       " Timestamp('2011-06-30 00:00:00'),\n",
       " Timestamp('2011-09-30 00:00:00'),\n",
       " Timestamp('2011-12-30 00:00:00'),\n",
       " Timestamp('2012-03-30 00:00:00'),\n",
       " Timestamp('2012-06-29 00:00:00'),\n",
       " Timestamp('2012-09-28 00:00:00'),\n",
       " Timestamp('2012-12-31 00:00:00'),\n",
       " Timestamp('2013-03-28 00:00:00'),\n",
       " Timestamp('2013-06-28 00:00:00'),\n",
       " Timestamp('2013-09-30 00:00:00'),\n",
       " Timestamp('2013-12-31 00:00:00'),\n",
       " Timestamp('2014-03-31 00:00:00'),\n",
       " Timestamp('2014-06-30 00:00:00'),\n",
       " Timestamp('2014-09-30 00:00:00'),\n",
       " Timestamp('2014-12-31 00:00:00'),\n",
       " Timestamp('2015-03-31 00:00:00'),\n",
       " Timestamp('2015-06-30 00:00:00'),\n",
       " Timestamp('2015-09-30 00:00:00'),\n",
       " Timestamp('2015-12-31 00:00:00'),\n",
       " Timestamp('2016-03-31 00:00:00'),\n",
       " Timestamp('2016-06-30 00:00:00'),\n",
       " Timestamp('2016-09-30 00:00:00'),\n",
       " Timestamp('2016-12-30 00:00:00'),\n",
       " Timestamp('2017-03-31 00:00:00'),\n",
       " Timestamp('2017-06-30 00:00:00'),\n",
       " Timestamp('2017-09-29 00:00:00'),\n",
       " Timestamp('2017-12-29 00:00:00'),\n",
       " Timestamp('2018-03-29 00:00:00'),\n",
       " Timestamp('2018-06-29 00:00:00'),\n",
       " Timestamp('2018-09-28 00:00:00'),\n",
       " Timestamp('2018-12-31 00:00:00'),\n",
       " Timestamp('2019-03-29 00:00:00'),\n",
       " Timestamp('2019-06-28 00:00:00'),\n",
       " Timestamp('2019-09-30 00:00:00'),\n",
       " Timestamp('2019-12-31 00:00:00'),\n",
       " Timestamp('2020-03-31 00:00:00')]"
      ]
     },
     "execution_count": 16,
     "metadata": {},
     "output_type": "execute_result"
    }
   ],
   "source": [
    "prices = hist['Close']\n",
    "prices\n",
    "keep = []\n",
    "for i in range(len(prices.index)-1):\n",
    "    if prices.index[i].month in [3,6,9,12]:\n",
    "        if prices.index[i+1].month != prices.index[i].month:\n",
    "            keep.append(prices.index[i])\n",
    "keep"
   ]
  },
  {
   "cell_type": "markdown",
   "metadata": {},
   "source": [
    "This was successful. We can see that we have isolated the business day for each quarter from the stock price data frame. Now we need to use this list of timestamps to filter our dataframe to these stock prices. Then we will want to change the index, so that it shows the first day of each quarter, instead of the last business day."
   ]
  },
  {
   "cell_type": "code",
   "execution_count": 17,
   "metadata": {},
   "outputs": [
    {
     "data": {
      "text/plain": [
       "1986-01-01      0.06\n",
       "1986-04-01      0.07\n",
       "1986-07-01      0.06\n",
       "1986-10-01      0.11\n",
       "1987-01-01      0.21\n",
       "               ...  \n",
       "2019-01-01    116.08\n",
       "2019-04-01    132.33\n",
       "2019-07-01    137.80\n",
       "2019-10-01    156.83\n",
       "2020-01-01    157.27\n",
       "Name: Close, Length: 137, dtype: float64"
      ]
     },
     "execution_count": 17,
     "metadata": {},
     "output_type": "execute_result"
    }
   ],
   "source": [
    "prices_quarterly = prices.loc[keep]\n",
    "new_index = []\n",
    "for i in prices_quarterly.index:\n",
    "    new_value = i.replace(month = i.month-2, day = 1)\n",
    "    new_index.append(new_value)\n",
    "prices_quarterly.index = new_index\n",
    "prices_quarterly"
   ]
  },
  {
   "cell_type": "markdown",
   "metadata": {},
   "source": [
    "Now we are ready to merge in the dataframes and only keep the data that is relevant for both variables (ie remove 1947-1986 from our real gdp variable). First let's make a function out of what we have just done, so that we can reuse in the future. \n"
   ]
  },
  {
   "cell_type": "code",
   "execution_count": 18,
   "metadata": {},
   "outputs": [
    {
     "data": {
      "text/plain": [
       "1986-01-01      0.06\n",
       "1986-04-01      0.07\n",
       "1986-07-01      0.06\n",
       "1986-10-01      0.11\n",
       "1987-01-01      0.21\n",
       "               ...  \n",
       "2019-01-01    116.08\n",
       "2019-04-01    132.33\n",
       "2019-07-01    137.80\n",
       "2019-10-01    156.83\n",
       "2020-01-01    157.27\n",
       "Name: Close, Length: 137, dtype: float64"
      ]
     },
     "execution_count": 18,
     "metadata": {},
     "output_type": "execute_result"
    }
   ],
   "source": [
    "def quarterly_close(prices):\n",
    "    keep = []\n",
    "    for i in range(len(prices.index)-1):\n",
    "        if prices.index[i].month in [3,6,9,12]:\n",
    "            if prices.index[i+1].month != prices.index[i].month:\n",
    "                keep.append(prices.index[i])\n",
    "    prices_quarterly = prices.loc[keep]\n",
    "    new_index = []\n",
    "    for i in prices_quarterly.index:\n",
    "        new_value = i.replace(month = i.month-2, day = 1)\n",
    "        new_index.append(new_value)\n",
    "    prices_quarterly.index = new_index\n",
    "    return prices_quarterly\n",
    "    \n",
    "prices_quarterly = quarterly_close(prices)\n",
    "prices_quarterly"
   ]
  },
  {
   "cell_type": "markdown",
   "metadata": {},
   "source": [
    "This was successful, so let's put the two variables together to make sure we don't run into any dimension issues when we use OLS. Recall we wanted to use the price growth (in %) with the gdp difference"
   ]
  },
  {
   "cell_type": "code",
   "execution_count": 19,
   "metadata": {},
   "outputs": [
    {
     "data": {
      "text/html": [
       "<div>\n",
       "<style scoped>\n",
       "    .dataframe tbody tr th:only-of-type {\n",
       "        vertical-align: middle;\n",
       "    }\n",
       "\n",
       "    .dataframe tbody tr th {\n",
       "        vertical-align: top;\n",
       "    }\n",
       "\n",
       "    .dataframe thead th {\n",
       "        text-align: right;\n",
       "    }\n",
       "</style>\n",
       "<table border=\"1\" class=\"dataframe\">\n",
       "  <thead>\n",
       "    <tr style=\"text-align: right;\">\n",
       "      <th></th>\n",
       "      <th>Stock Price Quarterly % Growth</th>\n",
       "      <th>GDP difference</th>\n",
       "    </tr>\n",
       "  </thead>\n",
       "  <tbody>\n",
       "    <tr>\n",
       "      <th>1947-01-01</th>\n",
       "      <td>NaN</td>\n",
       "      <td>NaN</td>\n",
       "    </tr>\n",
       "    <tr>\n",
       "      <th>1947-04-01</th>\n",
       "      <td>NaN</td>\n",
       "      <td>-5.422</td>\n",
       "    </tr>\n",
       "    <tr>\n",
       "      <th>1947-07-01</th>\n",
       "      <td>NaN</td>\n",
       "      <td>-4.187</td>\n",
       "    </tr>\n",
       "    <tr>\n",
       "      <th>1947-10-01</th>\n",
       "      <td>NaN</td>\n",
       "      <td>31.651</td>\n",
       "    </tr>\n",
       "    <tr>\n",
       "      <th>1948-01-01</th>\n",
       "      <td>NaN</td>\n",
       "      <td>30.914</td>\n",
       "    </tr>\n",
       "    <tr>\n",
       "      <th>...</th>\n",
       "      <td>...</td>\n",
       "      <td>...</td>\n",
       "    </tr>\n",
       "    <tr>\n",
       "      <th>2019-01-01</th>\n",
       "      <td>0.166164</td>\n",
       "      <td>143.733</td>\n",
       "    </tr>\n",
       "    <tr>\n",
       "      <th>2019-04-01</th>\n",
       "      <td>0.139990</td>\n",
       "      <td>94.579</td>\n",
       "    </tr>\n",
       "    <tr>\n",
       "      <th>2019-07-01</th>\n",
       "      <td>0.041336</td>\n",
       "      <td>99.252</td>\n",
       "    </tr>\n",
       "    <tr>\n",
       "      <th>2019-10-01</th>\n",
       "      <td>0.138099</td>\n",
       "      <td>100.858</td>\n",
       "    </tr>\n",
       "    <tr>\n",
       "      <th>2020-01-01</th>\n",
       "      <td>0.002806</td>\n",
       "      <td>-247.268</td>\n",
       "    </tr>\n",
       "  </tbody>\n",
       "</table>\n",
       "<p>293 rows × 2 columns</p>\n",
       "</div>"
      ],
      "text/plain": [
       "            Stock Price Quarterly % Growth  GDP difference\n",
       "1947-01-01                             NaN             NaN\n",
       "1947-04-01                             NaN          -5.422\n",
       "1947-07-01                             NaN          -4.187\n",
       "1947-10-01                             NaN          31.651\n",
       "1948-01-01                             NaN          30.914\n",
       "...                                    ...             ...\n",
       "2019-01-01                        0.166164         143.733\n",
       "2019-04-01                        0.139990          94.579\n",
       "2019-07-01                        0.041336          99.252\n",
       "2019-10-01                        0.138099         100.858\n",
       "2020-01-01                        0.002806        -247.268\n",
       "\n",
       "[293 rows x 2 columns]"
      ]
     },
     "metadata": {},
     "output_type": "display_data"
    },
    {
     "data": {
      "image/png": "[encoded data removed]",
      "text/plain": [
       "<Figure size 432x288 with 1 Axes>"
      ]
     },
     "metadata": {
      "needs_background": "light"
     },
     "output_type": "display_data"
    }
   ],
   "source": [
    "prices_quarterly_growth = prices_quarterly.diff()/prices_quarterly.shift(1)\n",
    "prices_quarterly_growth.plot()\n",
    "gdp_diff = gdp['GDPC1'].diff()\n",
    "reg_data = pd.concat([prices_quarterly_growth, gdp_diff], axis = 1)\n",
    "reg_data.columns = ['Stock Price Quarterly % Growth', 'GDP difference']\n",
    "display(reg_data)"
   ]
  },
  {
   "cell_type": "markdown",
   "metadata": {},
   "source": [
    "We know our data has no missing values, that's why this next step is okay. Be cautious to deal with missing values prior to doing this step as it will remove the row for any missing value, which is dangerous if that value is part of our intended development period. \n"
   ]
  },
  {
   "cell_type": "code",
   "execution_count": 20,
   "metadata": {},
   "outputs": [
    {
     "data": {
      "text/html": [
       "<div>\n",
       "<style scoped>\n",
       "    .dataframe tbody tr th:only-of-type {\n",
       "        vertical-align: middle;\n",
       "    }\n",
       "\n",
       "    .dataframe tbody tr th {\n",
       "        vertical-align: top;\n",
       "    }\n",
       "\n",
       "    .dataframe thead th {\n",
       "        text-align: right;\n",
       "    }\n",
       "</style>\n",
       "<table border=\"1\" class=\"dataframe\">\n",
       "  <thead>\n",
       "    <tr style=\"text-align: right;\">\n",
       "      <th></th>\n",
       "      <th>Stock Price Quarterly % Growth</th>\n",
       "      <th>GDP difference</th>\n",
       "    </tr>\n",
       "  </thead>\n",
       "  <tbody>\n",
       "    <tr>\n",
       "      <th>1986-04-01</th>\n",
       "      <td>0.166667</td>\n",
       "      <td>36.700</td>\n",
       "    </tr>\n",
       "    <tr>\n",
       "      <th>1986-07-01</th>\n",
       "      <td>-0.142857</td>\n",
       "      <td>78.336</td>\n",
       "    </tr>\n",
       "    <tr>\n",
       "      <th>1986-10-01</th>\n",
       "      <td>0.833333</td>\n",
       "      <td>44.382</td>\n",
       "    </tr>\n",
       "    <tr>\n",
       "      <th>1987-01-01</th>\n",
       "      <td>0.909091</td>\n",
       "      <td>61.909</td>\n",
       "    </tr>\n",
       "    <tr>\n",
       "      <th>1987-04-01</th>\n",
       "      <td>0.095238</td>\n",
       "      <td>90.303</td>\n",
       "    </tr>\n",
       "    <tr>\n",
       "      <th>...</th>\n",
       "      <td>...</td>\n",
       "      <td>...</td>\n",
       "    </tr>\n",
       "    <tr>\n",
       "      <th>2019-01-01</th>\n",
       "      <td>0.166164</td>\n",
       "      <td>143.733</td>\n",
       "    </tr>\n",
       "    <tr>\n",
       "      <th>2019-04-01</th>\n",
       "      <td>0.139990</td>\n",
       "      <td>94.579</td>\n",
       "    </tr>\n",
       "    <tr>\n",
       "      <th>2019-07-01</th>\n",
       "      <td>0.041336</td>\n",
       "      <td>99.252</td>\n",
       "    </tr>\n",
       "    <tr>\n",
       "      <th>2019-10-01</th>\n",
       "      <td>0.138099</td>\n",
       "      <td>100.858</td>\n",
       "    </tr>\n",
       "    <tr>\n",
       "      <th>2020-01-01</th>\n",
       "      <td>0.002806</td>\n",
       "      <td>-247.268</td>\n",
       "    </tr>\n",
       "  </tbody>\n",
       "</table>\n",
       "<p>136 rows × 2 columns</p>\n",
       "</div>"
      ],
      "text/plain": [
       "            Stock Price Quarterly % Growth  GDP difference\n",
       "1986-04-01                        0.166667          36.700\n",
       "1986-07-01                       -0.142857          78.336\n",
       "1986-10-01                        0.833333          44.382\n",
       "1987-01-01                        0.909091          61.909\n",
       "1987-04-01                        0.095238          90.303\n",
       "...                                    ...             ...\n",
       "2019-01-01                        0.166164         143.733\n",
       "2019-04-01                        0.139990          94.579\n",
       "2019-07-01                        0.041336          99.252\n",
       "2019-10-01                        0.138099         100.858\n",
       "2020-01-01                        0.002806        -247.268\n",
       "\n",
       "[136 rows x 2 columns]"
      ]
     },
     "execution_count": 20,
     "metadata": {},
     "output_type": "execute_result"
    }
   ],
   "source": [
    "reg_data = reg_data.dropna()\n",
    "reg_data"
   ]
  },
  {
   "cell_type": "markdown",
   "metadata": {},
   "source": [
    "We're pretty close now. To use statsmodels ols function we need to pass it y - our dependent variable and X - our design matrix. Thus we have to split this up again, then we will add our constant to the design matrix"
   ]
  },
  {
   "cell_type": "code",
   "execution_count": 21,
   "metadata": {},
   "outputs": [
    {
     "data": {
      "text/plain": [
       "1986-04-01    0.166667\n",
       "1986-07-01   -0.142857\n",
       "1986-10-01    0.833333\n",
       "1987-01-01    0.909091\n",
       "1987-04-01    0.095238\n",
       "                ...   \n",
       "2019-01-01    0.166164\n",
       "2019-04-01    0.139990\n",
       "2019-07-01    0.041336\n",
       "2019-10-01    0.138099\n",
       "2020-01-01    0.002806\n",
       "Name: Stock Price Quarterly % Growth, Length: 136, dtype: float64"
      ]
     },
     "metadata": {},
     "output_type": "display_data"
    },
    {
     "name": "stderr",
     "output_type": "stream",
     "text": [
      "/usr/local/lib/python3.7/site-packages/numpy/core/fromnumeric.py:2495: FutureWarning: Method .ptp is deprecated and will be removed in a future version. Use numpy.ptp instead.\n",
      "  return ptp(axis=axis, out=out, **kwargs)\n"
     ]
    },
    {
     "data": {
      "text/html": [
       "<div>\n",
       "<style scoped>\n",
       "    .dataframe tbody tr th:only-of-type {\n",
       "        vertical-align: middle;\n",
       "    }\n",
       "\n",
       "    .dataframe tbody tr th {\n",
       "        vertical-align: top;\n",
       "    }\n",
       "\n",
       "    .dataframe thead th {\n",
       "        text-align: right;\n",
       "    }\n",
       "</style>\n",
       "<table border=\"1\" class=\"dataframe\">\n",
       "  <thead>\n",
       "    <tr style=\"text-align: right;\">\n",
       "      <th></th>\n",
       "      <th>const</th>\n",
       "      <th>GDP difference</th>\n",
       "    </tr>\n",
       "  </thead>\n",
       "  <tbody>\n",
       "    <tr>\n",
       "      <th>1986-04-01</th>\n",
       "      <td>1.0</td>\n",
       "      <td>36.700</td>\n",
       "    </tr>\n",
       "    <tr>\n",
       "      <th>1986-07-01</th>\n",
       "      <td>1.0</td>\n",
       "      <td>78.336</td>\n",
       "    </tr>\n",
       "    <tr>\n",
       "      <th>1986-10-01</th>\n",
       "      <td>1.0</td>\n",
       "      <td>44.382</td>\n",
       "    </tr>\n",
       "    <tr>\n",
       "      <th>1987-01-01</th>\n",
       "      <td>1.0</td>\n",
       "      <td>61.909</td>\n",
       "    </tr>\n",
       "    <tr>\n",
       "      <th>1987-04-01</th>\n",
       "      <td>1.0</td>\n",
       "      <td>90.303</td>\n",
       "    </tr>\n",
       "    <tr>\n",
       "      <th>...</th>\n",
       "      <td>...</td>\n",
       "      <td>...</td>\n",
       "    </tr>\n",
       "    <tr>\n",
       "      <th>2019-01-01</th>\n",
       "      <td>1.0</td>\n",
       "      <td>143.733</td>\n",
       "    </tr>\n",
       "    <tr>\n",
       "      <th>2019-04-01</th>\n",
       "      <td>1.0</td>\n",
       "      <td>94.579</td>\n",
       "    </tr>\n",
       "    <tr>\n",
       "      <th>2019-07-01</th>\n",
       "      <td>1.0</td>\n",
       "      <td>99.252</td>\n",
       "    </tr>\n",
       "    <tr>\n",
       "      <th>2019-10-01</th>\n",
       "      <td>1.0</td>\n",
       "      <td>100.858</td>\n",
       "    </tr>\n",
       "    <tr>\n",
       "      <th>2020-01-01</th>\n",
       "      <td>1.0</td>\n",
       "      <td>-247.268</td>\n",
       "    </tr>\n",
       "  </tbody>\n",
       "</table>\n",
       "<p>136 rows × 2 columns</p>\n",
       "</div>"
      ],
      "text/plain": [
       "            const  GDP difference\n",
       "1986-04-01    1.0          36.700\n",
       "1986-07-01    1.0          78.336\n",
       "1986-10-01    1.0          44.382\n",
       "1987-01-01    1.0          61.909\n",
       "1987-04-01    1.0          90.303\n",
       "...           ...             ...\n",
       "2019-01-01    1.0         143.733\n",
       "2019-04-01    1.0          94.579\n",
       "2019-07-01    1.0          99.252\n",
       "2019-10-01    1.0         100.858\n",
       "2020-01-01    1.0        -247.268\n",
       "\n",
       "[136 rows x 2 columns]"
      ]
     },
     "metadata": {},
     "output_type": "display_data"
    }
   ],
   "source": [
    "# note here we use positional indexing to draw out the data, we could also use row and\n",
    "# column names using the .loc[] capability of pandas\n",
    "y = reg_data.iloc[:,0]\n",
    "display(y)\n",
    "X = reg_data.iloc[:,1]\n",
    "X = sm.add_constant(X)\n",
    "display(X)"
   ]
  },
  {
   "cell_type": "markdown",
   "metadata": {},
   "source": [
    "Now we are ready to pass this to OLS and look at a summary of the model"
   ]
  },
  {
   "cell_type": "code",
   "execution_count": 22,
   "metadata": {},
   "outputs": [
    {
     "data": {
      "text/html": [
       "<table class=\"simpletable\">\n",
       "<caption>OLS Regression Results</caption>\n",
       "<tr>\n",
       "  <th>Dep. Variable:</th>    <td>Stock Price Quarterly % Growth</td> <th>  R-squared:         </th> <td>   0.011</td>\n",
       "</tr>\n",
       "<tr>\n",
       "  <th>Model:</th>                          <td>OLS</td>              <th>  Adj. R-squared:    </th> <td>   0.003</td>\n",
       "</tr>\n",
       "<tr>\n",
       "  <th>Method:</th>                    <td>Least Squares</td>         <th>  F-statistic:       </th> <td>   1.434</td>\n",
       "</tr>\n",
       "<tr>\n",
       "  <th>Date:</th>                    <td>Wed, 03 Jun 2020</td>        <th>  Prob (F-statistic):</th>  <td> 0.233</td> \n",
       "</tr>\n",
       "<tr>\n",
       "  <th>Time:</th>                        <td>19:09:07</td>            <th>  Log-Likelihood:    </th> <td>  41.576</td>\n",
       "</tr>\n",
       "<tr>\n",
       "  <th>No. Observations:</th>             <td>   136</td>             <th>  AIC:               </th> <td>  -79.15</td>\n",
       "</tr>\n",
       "<tr>\n",
       "  <th>Df Residuals:</th>                 <td>   134</td>             <th>  BIC:               </th> <td>  -73.33</td>\n",
       "</tr>\n",
       "<tr>\n",
       "  <th>Df Model:</th>                     <td>     1</td>             <th>                     </th>     <td> </td>   \n",
       "</tr>\n",
       "<tr>\n",
       "  <th>Covariance Type:</th>             <td>nonrobust</td>           <th>                     </th>     <td> </td>   \n",
       "</tr>\n",
       "</table>\n",
       "<table class=\"simpletable\">\n",
       "<tr>\n",
       "         <td></td>           <th>coef</th>     <th>std err</th>      <th>t</th>      <th>P>|t|</th>  <th>[0.025</th>    <th>0.975]</th>  \n",
       "</tr>\n",
       "<tr>\n",
       "  <th>const</th>          <td>    0.0554</td> <td>    0.022</td> <td>    2.561</td> <td> 0.012</td> <td>    0.013</td> <td>    0.098</td>\n",
       "</tr>\n",
       "<tr>\n",
       "  <th>GDP difference</th> <td>    0.0002</td> <td>    0.000</td> <td>    1.197</td> <td> 0.233</td> <td>   -0.000</td> <td>    0.001</td>\n",
       "</tr>\n",
       "</table>\n",
       "<table class=\"simpletable\">\n",
       "<tr>\n",
       "  <th>Omnibus:</th>       <td>46.544</td> <th>  Durbin-Watson:     </th> <td>   1.749</td>\n",
       "</tr>\n",
       "<tr>\n",
       "  <th>Prob(Omnibus):</th> <td> 0.000</td> <th>  Jarque-Bera (JB):  </th> <td> 150.486</td>\n",
       "</tr>\n",
       "<tr>\n",
       "  <th>Skew:</th>          <td> 1.250</td> <th>  Prob(JB):          </th> <td>2.10e-33</td>\n",
       "</tr>\n",
       "<tr>\n",
       "  <th>Kurtosis:</th>      <td> 7.506</td> <th>  Cond. No.          </th> <td>    159.</td>\n",
       "</tr>\n",
       "</table><br/><br/>Warnings:<br/>[1] Standard Errors assume that the covariance matrix of the errors is correctly specified."
      ],
      "text/plain": [
       "<class 'statsmodels.iolib.summary.Summary'>\n",
       "\"\"\"\n",
       "                                  OLS Regression Results                                  \n",
       "==========================================================================================\n",
       "Dep. Variable:     Stock Price Quarterly % Growth   R-squared:                       0.011\n",
       "Model:                                        OLS   Adj. R-squared:                  0.003\n",
       "Method:                             Least Squares   F-statistic:                     1.434\n",
       "Date:                            Wed, 03 Jun 2020   Prob (F-statistic):              0.233\n",
       "Time:                                    19:09:07   Log-Likelihood:                 41.576\n",
       "No. Observations:                             136   AIC:                            -79.15\n",
       "Df Residuals:                                 134   BIC:                            -73.33\n",
       "Df Model:                                       1                                         \n",
       "Covariance Type:                        nonrobust                                         \n",
       "==================================================================================\n",
       "                     coef    std err          t      P>|t|      [0.025      0.975]\n",
       "----------------------------------------------------------------------------------\n",
       "const              0.0554      0.022      2.561      0.012       0.013       0.098\n",
       "GDP difference     0.0002      0.000      1.197      0.233      -0.000       0.001\n",
       "==============================================================================\n",
       "Omnibus:                       46.544   Durbin-Watson:                   1.749\n",
       "Prob(Omnibus):                  0.000   Jarque-Bera (JB):              150.486\n",
       "Skew:                           1.250   Prob(JB):                     2.10e-33\n",
       "Kurtosis:                       7.506   Cond. No.                         159.\n",
       "==============================================================================\n",
       "\n",
       "Warnings:\n",
       "[1] Standard Errors assume that the covariance matrix of the errors is correctly specified.\n",
       "\"\"\""
      ]
     },
     "execution_count": 22,
     "metadata": {},
     "output_type": "execute_result"
    }
   ],
   "source": [
    "model = sm.OLS(y,X).fit()\n",
    "model.summary()"
   ]
  },
  {
   "cell_type": "markdown",
   "metadata": {},
   "source": [
    "We see that we have an insignificant variable, as evidenced by the low p-value on the GDP Difference parameter. Also, our R-squared is quite weak, meaning we might be wise to consider a different explanatory variable. For fast prototyping, let's define a function that will take in our reg data frame - with y as the first column and the rest of the columns as regressor variables, and create the model. "
   ]
  },
  {
   "cell_type": "code",
   "execution_count": 23,
   "metadata": {},
   "outputs": [
    {
     "data": {
      "text/html": [
       "<table class=\"simpletable\">\n",
       "<caption>OLS Regression Results</caption>\n",
       "<tr>\n",
       "  <th>Dep. Variable:</th>    <td>Stock Price Quarterly % Growth</td> <th>  R-squared:         </th> <td>   0.011</td>\n",
       "</tr>\n",
       "<tr>\n",
       "  <th>Model:</th>                          <td>OLS</td>              <th>  Adj. R-squared:    </th> <td>   0.003</td>\n",
       "</tr>\n",
       "<tr>\n",
       "  <th>Method:</th>                    <td>Least Squares</td>         <th>  F-statistic:       </th> <td>   1.434</td>\n",
       "</tr>\n",
       "<tr>\n",
       "  <th>Date:</th>                    <td>Wed, 03 Jun 2020</td>        <th>  Prob (F-statistic):</th>  <td> 0.233</td> \n",
       "</tr>\n",
       "<tr>\n",
       "  <th>Time:</th>                        <td>19:09:07</td>            <th>  Log-Likelihood:    </th> <td>  41.576</td>\n",
       "</tr>\n",
       "<tr>\n",
       "  <th>No. Observations:</th>             <td>   136</td>             <th>  AIC:               </th> <td>  -79.15</td>\n",
       "</tr>\n",
       "<tr>\n",
       "  <th>Df Residuals:</th>                 <td>   134</td>             <th>  BIC:               </th> <td>  -73.33</td>\n",
       "</tr>\n",
       "<tr>\n",
       "  <th>Df Model:</th>                     <td>     1</td>             <th>                     </th>     <td> </td>   \n",
       "</tr>\n",
       "<tr>\n",
       "  <th>Covariance Type:</th>             <td>nonrobust</td>           <th>                     </th>     <td> </td>   \n",
       "</tr>\n",
       "</table>\n",
       "<table class=\"simpletable\">\n",
       "<tr>\n",
       "         <td></td>           <th>coef</th>     <th>std err</th>      <th>t</th>      <th>P>|t|</th>  <th>[0.025</th>    <th>0.975]</th>  \n",
       "</tr>\n",
       "<tr>\n",
       "  <th>const</th>          <td>    0.0554</td> <td>    0.022</td> <td>    2.561</td> <td> 0.012</td> <td>    0.013</td> <td>    0.098</td>\n",
       "</tr>\n",
       "<tr>\n",
       "  <th>GDP difference</th> <td>    0.0002</td> <td>    0.000</td> <td>    1.197</td> <td> 0.233</td> <td>   -0.000</td> <td>    0.001</td>\n",
       "</tr>\n",
       "</table>\n",
       "<table class=\"simpletable\">\n",
       "<tr>\n",
       "  <th>Omnibus:</th>       <td>46.544</td> <th>  Durbin-Watson:     </th> <td>   1.749</td>\n",
       "</tr>\n",
       "<tr>\n",
       "  <th>Prob(Omnibus):</th> <td> 0.000</td> <th>  Jarque-Bera (JB):  </th> <td> 150.486</td>\n",
       "</tr>\n",
       "<tr>\n",
       "  <th>Skew:</th>          <td> 1.250</td> <th>  Prob(JB):          </th> <td>2.10e-33</td>\n",
       "</tr>\n",
       "<tr>\n",
       "  <th>Kurtosis:</th>      <td> 7.506</td> <th>  Cond. No.          </th> <td>    159.</td>\n",
       "</tr>\n",
       "</table><br/><br/>Warnings:<br/>[1] Standard Errors assume that the covariance matrix of the errors is correctly specified."
      ],
      "text/plain": [
       "<class 'statsmodels.iolib.summary.Summary'>\n",
       "\"\"\"\n",
       "                                  OLS Regression Results                                  \n",
       "==========================================================================================\n",
       "Dep. Variable:     Stock Price Quarterly % Growth   R-squared:                       0.011\n",
       "Model:                                        OLS   Adj. R-squared:                  0.003\n",
       "Method:                             Least Squares   F-statistic:                     1.434\n",
       "Date:                            Wed, 03 Jun 2020   Prob (F-statistic):              0.233\n",
       "Time:                                    19:09:07   Log-Likelihood:                 41.576\n",
       "No. Observations:                             136   AIC:                            -79.15\n",
       "Df Residuals:                                 134   BIC:                            -73.33\n",
       "Df Model:                                       1                                         \n",
       "Covariance Type:                        nonrobust                                         \n",
       "==================================================================================\n",
       "                     coef    std err          t      P>|t|      [0.025      0.975]\n",
       "----------------------------------------------------------------------------------\n",
       "const              0.0554      0.022      2.561      0.012       0.013       0.098\n",
       "GDP difference     0.0002      0.000      1.197      0.233      -0.000       0.001\n",
       "==============================================================================\n",
       "Omnibus:                       46.544   Durbin-Watson:                   1.749\n",
       "Prob(Omnibus):                  0.000   Jarque-Bera (JB):              150.486\n",
       "Skew:                           1.250   Prob(JB):                     2.10e-33\n",
       "Kurtosis:                       7.506   Cond. No.                         159.\n",
       "==============================================================================\n",
       "\n",
       "Warnings:\n",
       "[1] Standard Errors assume that the covariance matrix of the errors is correctly specified.\n",
       "\"\"\""
      ]
     },
     "execution_count": 23,
     "metadata": {},
     "output_type": "execute_result"
    }
   ],
   "source": [
    "# note we also return y and X because we will need them later for more exploration of \n",
    "# our candidate model\n",
    "def create_model(reg_data):\n",
    "    y = reg_data.iloc[:,0]\n",
    "    X = reg_data.iloc[:,1]\n",
    "    X = sm.add_constant(X)\n",
    "    return sm.OLS(y,X).fit(), y, X\n",
    "\n",
    "model, y, X = create_model(reg_data)\n",
    "model.summary()"
   ]
  },
  {
   "cell_type": "markdown",
   "metadata": {},
   "source": [
    "We see that this worked so let's explore some alternative variables. First we will make our data handling a bit easier by making each macroeconomic variable it's own data series, whereas it had previously been a dataframe. This way we don't have to keep remembering the weird column headers in our dataframes. "
   ]
  },
  {
   "cell_type": "code",
   "execution_count": 24,
   "metadata": {},
   "outputs": [],
   "source": [
    "gdp = gdp['GDPC1']\n",
    "pce = pce['PCEC96']\n",
    "disp_pc = disposable_per_capita['A229RX0']\n",
    "disp = disposable['DSPIC96']\n",
    "price_growth = reg_data.iloc[:,0]"
   ]
  },
  {
   "cell_type": "markdown",
   "metadata": {},
   "source": [
    "#### GDP Difference Lag 2"
   ]
  },
  {
   "cell_type": "code",
   "execution_count": 25,
   "metadata": {},
   "outputs": [
    {
     "data": {
      "text/html": [
       "<table class=\"simpletable\">\n",
       "<caption>OLS Regression Results</caption>\n",
       "<tr>\n",
       "  <th>Dep. Variable:</th>    <td>Stock Price Quarterly % Growth</td> <th>  R-squared:         </th> <td>   0.015</td>\n",
       "</tr>\n",
       "<tr>\n",
       "  <th>Model:</th>                          <td>OLS</td>              <th>  Adj. R-squared:    </th> <td>   0.007</td>\n",
       "</tr>\n",
       "<tr>\n",
       "  <th>Method:</th>                    <td>Least Squares</td>         <th>  F-statistic:       </th> <td>   1.985</td>\n",
       "</tr>\n",
       "<tr>\n",
       "  <th>Date:</th>                    <td>Wed, 03 Jun 2020</td>        <th>  Prob (F-statistic):</th>  <td> 0.161</td> \n",
       "</tr>\n",
       "<tr>\n",
       "  <th>Time:</th>                        <td>19:09:07</td>            <th>  Log-Likelihood:    </th> <td>  41.853</td>\n",
       "</tr>\n",
       "<tr>\n",
       "  <th>No. Observations:</th>             <td>   136</td>             <th>  AIC:               </th> <td>  -79.71</td>\n",
       "</tr>\n",
       "<tr>\n",
       "  <th>Df Residuals:</th>                 <td>   134</td>             <th>  BIC:               </th> <td>  -73.88</td>\n",
       "</tr>\n",
       "<tr>\n",
       "  <th>Df Model:</th>                     <td>     1</td>             <th>                     </th>     <td> </td>   \n",
       "</tr>\n",
       "<tr>\n",
       "  <th>Covariance Type:</th>             <td>nonrobust</td>           <th>                     </th>     <td> </td>   \n",
       "</tr>\n",
       "</table>\n",
       "<table class=\"simpletable\">\n",
       "<tr>\n",
       "    <td></td>       <th>coef</th>     <th>std err</th>      <th>t</th>      <th>P>|t|</th>  <th>[0.025</th>    <th>0.975]</th>  \n",
       "</tr>\n",
       "<tr>\n",
       "  <th>const</th> <td>    0.0971</td> <td>    0.023</td> <td>    4.288</td> <td> 0.000</td> <td>    0.052</td> <td>    0.142</td>\n",
       "</tr>\n",
       "<tr>\n",
       "  <th>GDPC1</th> <td>   -0.0003</td> <td>    0.000</td> <td>   -1.409</td> <td> 0.161</td> <td>   -0.001</td> <td>    0.000</td>\n",
       "</tr>\n",
       "</table>\n",
       "<table class=\"simpletable\">\n",
       "<tr>\n",
       "  <th>Omnibus:</th>       <td>41.866</td> <th>  Durbin-Watson:     </th> <td>   1.774</td>\n",
       "</tr>\n",
       "<tr>\n",
       "  <th>Prob(Omnibus):</th> <td> 0.000</td> <th>  Jarque-Bera (JB):  </th> <td> 130.626</td>\n",
       "</tr>\n",
       "<tr>\n",
       "  <th>Skew:</th>          <td> 1.124</td> <th>  Prob(JB):          </th> <td>4.31e-29</td>\n",
       "</tr>\n",
       "<tr>\n",
       "  <th>Kurtosis:</th>      <td> 7.243</td> <th>  Cond. No.          </th> <td>    164.</td>\n",
       "</tr>\n",
       "</table><br/><br/>Warnings:<br/>[1] Standard Errors assume that the covariance matrix of the errors is correctly specified."
      ],
      "text/plain": [
       "<class 'statsmodels.iolib.summary.Summary'>\n",
       "\"\"\"\n",
       "                                  OLS Regression Results                                  \n",
       "==========================================================================================\n",
       "Dep. Variable:     Stock Price Quarterly % Growth   R-squared:                       0.015\n",
       "Model:                                        OLS   Adj. R-squared:                  0.007\n",
       "Method:                             Least Squares   F-statistic:                     1.985\n",
       "Date:                            Wed, 03 Jun 2020   Prob (F-statistic):              0.161\n",
       "Time:                                    19:09:07   Log-Likelihood:                 41.853\n",
       "No. Observations:                             136   AIC:                            -79.71\n",
       "Df Residuals:                                 134   BIC:                            -73.88\n",
       "Df Model:                                       1                                         \n",
       "Covariance Type:                        nonrobust                                         \n",
       "==============================================================================\n",
       "                 coef    std err          t      P>|t|      [0.025      0.975]\n",
       "------------------------------------------------------------------------------\n",
       "const          0.0971      0.023      4.288      0.000       0.052       0.142\n",
       "GDPC1         -0.0003      0.000     -1.409      0.161      -0.001       0.000\n",
       "==============================================================================\n",
       "Omnibus:                       41.866   Durbin-Watson:                   1.774\n",
       "Prob(Omnibus):                  0.000   Jarque-Bera (JB):              130.626\n",
       "Skew:                           1.124   Prob(JB):                     4.31e-29\n",
       "Kurtosis:                       7.243   Cond. No.                         164.\n",
       "==============================================================================\n",
       "\n",
       "Warnings:\n",
       "[1] Standard Errors assume that the covariance matrix of the errors is correctly specified.\n",
       "\"\"\""
      ]
     },
     "execution_count": 25,
     "metadata": {},
     "output_type": "execute_result"
    }
   ],
   "source": [
    "ind = gdp.diff().shift(2)\n",
    "\n",
    "reg_data = pd.concat([price_growth, ind], axis = 1)\n",
    "reg_data = reg_data.dropna()\n",
    "model, _, _ = create_model(reg_data)\n",
    "model.summary()"
   ]
  },
  {
   "cell_type": "markdown",
   "metadata": {},
   "source": [
    "#### PCE Growth"
   ]
  },
  {
   "cell_type": "code",
   "execution_count": 26,
   "metadata": {},
   "outputs": [
    {
     "data": {
      "text/html": [
       "<table class=\"simpletable\">\n",
       "<caption>OLS Regression Results</caption>\n",
       "<tr>\n",
       "  <th>Dep. Variable:</th>    <td>Stock Price Quarterly % Growth</td> <th>  R-squared:         </th> <td>   0.001</td>\n",
       "</tr>\n",
       "<tr>\n",
       "  <th>Model:</th>                          <td>OLS</td>              <th>  Adj. R-squared:    </th> <td>  -0.013</td>\n",
       "</tr>\n",
       "<tr>\n",
       "  <th>Method:</th>                    <td>Least Squares</td>         <th>  F-statistic:       </th> <td> 0.08744</td>\n",
       "</tr>\n",
       "<tr>\n",
       "  <th>Date:</th>                    <td>Wed, 03 Jun 2020</td>        <th>  Prob (F-statistic):</th>  <td> 0.768</td> \n",
       "</tr>\n",
       "<tr>\n",
       "  <th>Time:</th>                        <td>19:09:07</td>            <th>  Log-Likelihood:    </th> <td>  53.743</td>\n",
       "</tr>\n",
       "<tr>\n",
       "  <th>No. Observations:</th>             <td>    72</td>             <th>  AIC:               </th> <td>  -103.5</td>\n",
       "</tr>\n",
       "<tr>\n",
       "  <th>Df Residuals:</th>                 <td>    70</td>             <th>  BIC:               </th> <td>  -98.93</td>\n",
       "</tr>\n",
       "<tr>\n",
       "  <th>Df Model:</th>                     <td>     1</td>             <th>                     </th>     <td> </td>   \n",
       "</tr>\n",
       "<tr>\n",
       "  <th>Covariance Type:</th>             <td>nonrobust</td>           <th>                     </th>     <td> </td>   \n",
       "</tr>\n",
       "</table>\n",
       "<table class=\"simpletable\">\n",
       "<tr>\n",
       "     <td></td>       <th>coef</th>     <th>std err</th>      <th>t</th>      <th>P>|t|</th>  <th>[0.025</th>    <th>0.975]</th>  \n",
       "</tr>\n",
       "<tr>\n",
       "  <th>const</th>  <td>    0.0325</td> <td>    0.018</td> <td>    1.758</td> <td> 0.083</td> <td>   -0.004</td> <td>    0.069</td>\n",
       "</tr>\n",
       "<tr>\n",
       "  <th>PCEC96</th> <td>    1.6399</td> <td>    5.546</td> <td>    0.296</td> <td> 0.768</td> <td>   -9.421</td> <td>   12.700</td>\n",
       "</tr>\n",
       "</table>\n",
       "<table class=\"simpletable\">\n",
       "<tr>\n",
       "  <th>Omnibus:</th>       <td> 0.489</td> <th>  Durbin-Watson:     </th> <td>   2.220</td>\n",
       "</tr>\n",
       "<tr>\n",
       "  <th>Prob(Omnibus):</th> <td> 0.783</td> <th>  Jarque-Bera (JB):  </th> <td>   0.373</td>\n",
       "</tr>\n",
       "<tr>\n",
       "  <th>Skew:</th>          <td>-0.174</td> <th>  Prob(JB):          </th> <td>   0.830</td>\n",
       "</tr>\n",
       "<tr>\n",
       "  <th>Kurtosis:</th>      <td> 2.944</td> <th>  Cond. No.          </th> <td>    404.</td>\n",
       "</tr>\n",
       "</table><br/><br/>Warnings:<br/>[1] Standard Errors assume that the covariance matrix of the errors is correctly specified."
      ],
      "text/plain": [
       "<class 'statsmodels.iolib.summary.Summary'>\n",
       "\"\"\"\n",
       "                                  OLS Regression Results                                  \n",
       "==========================================================================================\n",
       "Dep. Variable:     Stock Price Quarterly % Growth   R-squared:                       0.001\n",
       "Model:                                        OLS   Adj. R-squared:                 -0.013\n",
       "Method:                             Least Squares   F-statistic:                   0.08744\n",
       "Date:                            Wed, 03 Jun 2020   Prob (F-statistic):              0.768\n",
       "Time:                                    19:09:07   Log-Likelihood:                 53.743\n",
       "No. Observations:                              72   AIC:                            -103.5\n",
       "Df Residuals:                                  70   BIC:                            -98.93\n",
       "Df Model:                                       1                                         \n",
       "Covariance Type:                        nonrobust                                         \n",
       "==============================================================================\n",
       "                 coef    std err          t      P>|t|      [0.025      0.975]\n",
       "------------------------------------------------------------------------------\n",
       "const          0.0325      0.018      1.758      0.083      -0.004       0.069\n",
       "PCEC96         1.6399      5.546      0.296      0.768      -9.421      12.700\n",
       "==============================================================================\n",
       "Omnibus:                        0.489   Durbin-Watson:                   2.220\n",
       "Prob(Omnibus):                  0.783   Jarque-Bera (JB):                0.373\n",
       "Skew:                          -0.174   Prob(JB):                        0.830\n",
       "Kurtosis:                       2.944   Cond. No.                         404.\n",
       "==============================================================================\n",
       "\n",
       "Warnings:\n",
       "[1] Standard Errors assume that the covariance matrix of the errors is correctly specified.\n",
       "\"\"\""
      ]
     },
     "execution_count": 26,
     "metadata": {},
     "output_type": "execute_result"
    }
   ],
   "source": [
    "ind = pce.diff()/pce.shift(1)\n",
    "reg_data = pd.concat([price_growth, ind], axis = 1)\n",
    "reg_data = reg_data.dropna()\n",
    "model, _, _ = create_model(reg_data)\n",
    "model.summary()"
   ]
  },
  {
   "cell_type": "markdown",
   "metadata": {},
   "source": [
    "#### Disposable Income per capita growth"
   ]
  },
  {
   "cell_type": "code",
   "execution_count": 27,
   "metadata": {},
   "outputs": [
    {
     "data": {
      "text/html": [
       "<table class=\"simpletable\">\n",
       "<caption>OLS Regression Results</caption>\n",
       "<tr>\n",
       "  <th>Dep. Variable:</th>    <td>Stock Price Quarterly % Growth</td> <th>  R-squared:         </th> <td>   0.003</td>\n",
       "</tr>\n",
       "<tr>\n",
       "  <th>Model:</th>                          <td>OLS</td>              <th>  Adj. R-squared:    </th> <td>  -0.004</td>\n",
       "</tr>\n",
       "<tr>\n",
       "  <th>Method:</th>                    <td>Least Squares</td>         <th>  F-statistic:       </th> <td>  0.4368</td>\n",
       "</tr>\n",
       "<tr>\n",
       "  <th>Date:</th>                    <td>Wed, 03 Jun 2020</td>        <th>  Prob (F-statistic):</th>  <td> 0.510</td> \n",
       "</tr>\n",
       "<tr>\n",
       "  <th>Time:</th>                        <td>19:09:07</td>            <th>  Log-Likelihood:    </th> <td>  41.074</td>\n",
       "</tr>\n",
       "<tr>\n",
       "  <th>No. Observations:</th>             <td>   136</td>             <th>  AIC:               </th> <td>  -78.15</td>\n",
       "</tr>\n",
       "<tr>\n",
       "  <th>Df Residuals:</th>                 <td>   134</td>             <th>  BIC:               </th> <td>  -72.32</td>\n",
       "</tr>\n",
       "<tr>\n",
       "  <th>Df Model:</th>                     <td>     1</td>             <th>                     </th>     <td> </td>   \n",
       "</tr>\n",
       "<tr>\n",
       "  <th>Covariance Type:</th>             <td>nonrobust</td>           <th>                     </th>     <td> </td>   \n",
       "</tr>\n",
       "</table>\n",
       "<table class=\"simpletable\">\n",
       "<tr>\n",
       "     <td></td>        <th>coef</th>     <th>std err</th>      <th>t</th>      <th>P>|t|</th>  <th>[0.025</th>    <th>0.975]</th>  \n",
       "</tr>\n",
       "<tr>\n",
       "  <th>const</th>   <td>    0.0737</td> <td>    0.015</td> <td>    4.769</td> <td> 0.000</td> <td>    0.043</td> <td>    0.104</td>\n",
       "</tr>\n",
       "<tr>\n",
       "  <th>A229RX0</th> <td>   -1.1735</td> <td>    1.776</td> <td>   -0.661</td> <td> 0.510</td> <td>   -4.685</td> <td>    2.338</td>\n",
       "</tr>\n",
       "</table>\n",
       "<table class=\"simpletable\">\n",
       "<tr>\n",
       "  <th>Omnibus:</th>       <td>43.509</td> <th>  Durbin-Watson:     </th> <td>   1.766</td>\n",
       "</tr>\n",
       "<tr>\n",
       "  <th>Prob(Omnibus):</th> <td> 0.000</td> <th>  Jarque-Bera (JB):  </th> <td> 135.674</td>\n",
       "</tr>\n",
       "<tr>\n",
       "  <th>Skew:</th>          <td> 1.174</td> <th>  Prob(JB):          </th> <td>3.46e-30</td>\n",
       "</tr>\n",
       "<tr>\n",
       "  <th>Kurtosis:</th>      <td> 7.293</td> <th>  Cond. No.          </th> <td>    115.</td>\n",
       "</tr>\n",
       "</table><br/><br/>Warnings:<br/>[1] Standard Errors assume that the covariance matrix of the errors is correctly specified."
      ],
      "text/plain": [
       "<class 'statsmodels.iolib.summary.Summary'>\n",
       "\"\"\"\n",
       "                                  OLS Regression Results                                  \n",
       "==========================================================================================\n",
       "Dep. Variable:     Stock Price Quarterly % Growth   R-squared:                       0.003\n",
       "Model:                                        OLS   Adj. R-squared:                 -0.004\n",
       "Method:                             Least Squares   F-statistic:                    0.4368\n",
       "Date:                            Wed, 03 Jun 2020   Prob (F-statistic):              0.510\n",
       "Time:                                    19:09:07   Log-Likelihood:                 41.074\n",
       "No. Observations:                             136   AIC:                            -78.15\n",
       "Df Residuals:                                 134   BIC:                            -72.32\n",
       "Df Model:                                       1                                         \n",
       "Covariance Type:                        nonrobust                                         \n",
       "==============================================================================\n",
       "                 coef    std err          t      P>|t|      [0.025      0.975]\n",
       "------------------------------------------------------------------------------\n",
       "const          0.0737      0.015      4.769      0.000       0.043       0.104\n",
       "A229RX0       -1.1735      1.776     -0.661      0.510      -4.685       2.338\n",
       "==============================================================================\n",
       "Omnibus:                       43.509   Durbin-Watson:                   1.766\n",
       "Prob(Omnibus):                  0.000   Jarque-Bera (JB):              135.674\n",
       "Skew:                           1.174   Prob(JB):                     3.46e-30\n",
       "Kurtosis:                       7.293   Cond. No.                         115.\n",
       "==============================================================================\n",
       "\n",
       "Warnings:\n",
       "[1] Standard Errors assume that the covariance matrix of the errors is correctly specified.\n",
       "\"\"\""
      ]
     },
     "execution_count": 27,
     "metadata": {},
     "output_type": "execute_result"
    }
   ],
   "source": [
    "ind = disp_pc.diff()/disp_pc.shift(1)\n",
    "reg_data = pd.concat([price_growth, ind], axis = 1)\n",
    "reg_data = reg_data.dropna()\n",
    "model, _, _ = create_model(reg_data)\n",
    "model.summary()"
   ]
  },
  {
   "cell_type": "markdown",
   "metadata": {},
   "source": [
    "Still nothing great. Lets get the dow jones industrial average from Yahoo! finance and see if maybe that is more promising"
   ]
  },
  {
   "cell_type": "code",
   "execution_count": 28,
   "metadata": {},
   "outputs": [],
   "source": [
    "dow = yf.Ticker(\"DJIA\").history(period = 'max')\n",
    "dow = dow['Close']\n",
    "dow = quarterly_close(dow)"
   ]
  },
  {
   "cell_type": "markdown",
   "metadata": {},
   "source": [
    "#### Dow Jones Industrial Average"
   ]
  },
  {
   "cell_type": "code",
   "execution_count": 29,
   "metadata": {},
   "outputs": [
    {
     "data": {
      "text/html": [
       "<table class=\"simpletable\">\n",
       "<caption>OLS Regression Results</caption>\n",
       "<tr>\n",
       "  <th>Dep. Variable:</th>    <td>Stock Price Quarterly % Growth</td> <th>  R-squared:         </th> <td>   0.352</td>\n",
       "</tr>\n",
       "<tr>\n",
       "  <th>Model:</th>                          <td>OLS</td>              <th>  Adj. R-squared:    </th> <td>   0.347</td>\n",
       "</tr>\n",
       "<tr>\n",
       "  <th>Method:</th>                    <td>Least Squares</td>         <th>  F-statistic:       </th> <td>   72.82</td>\n",
       "</tr>\n",
       "<tr>\n",
       "  <th>Date:</th>                    <td>Wed, 03 Jun 2020</td>        <th>  Prob (F-statistic):</th> <td>2.69e-14</td>\n",
       "</tr>\n",
       "<tr>\n",
       "  <th>Time:</th>                        <td>19:09:08</td>            <th>  Log-Likelihood:    </th> <td>  70.367</td>\n",
       "</tr>\n",
       "<tr>\n",
       "  <th>No. Observations:</th>             <td>   136</td>             <th>  AIC:               </th> <td>  -136.7</td>\n",
       "</tr>\n",
       "<tr>\n",
       "  <th>Df Residuals:</th>                 <td>   134</td>             <th>  BIC:               </th> <td>  -130.9</td>\n",
       "</tr>\n",
       "<tr>\n",
       "  <th>Df Model:</th>                     <td>     1</td>             <th>                     </th>     <td> </td>   \n",
       "</tr>\n",
       "<tr>\n",
       "  <th>Covariance Type:</th>             <td>nonrobust</td>           <th>                     </th>     <td> </td>   \n",
       "</tr>\n",
       "</table>\n",
       "<table class=\"simpletable\">\n",
       "<tr>\n",
       "    <td></td>       <th>coef</th>     <th>std err</th>      <th>t</th>      <th>P>|t|</th>  <th>[0.025</th>    <th>0.975]</th>  \n",
       "</tr>\n",
       "<tr>\n",
       "  <th>const</th> <td>    0.0441</td> <td>    0.013</td> <td>    3.410</td> <td> 0.001</td> <td>    0.019</td> <td>    0.070</td>\n",
       "</tr>\n",
       "<tr>\n",
       "  <th>Close</th> <td>    1.3674</td> <td>    0.160</td> <td>    8.534</td> <td> 0.000</td> <td>    1.050</td> <td>    1.684</td>\n",
       "</tr>\n",
       "</table>\n",
       "<table class=\"simpletable\">\n",
       "<tr>\n",
       "  <th>Omnibus:</th>       <td>43.437</td> <th>  Durbin-Watson:     </th> <td>   1.596</td>\n",
       "</tr>\n",
       "<tr>\n",
       "  <th>Prob(Omnibus):</th> <td> 0.000</td> <th>  Jarque-Bera (JB):  </th> <td> 133.380</td>\n",
       "</tr>\n",
       "<tr>\n",
       "  <th>Skew:</th>          <td> 1.178</td> <th>  Prob(JB):          </th> <td>1.09e-29</td>\n",
       "</tr>\n",
       "<tr>\n",
       "  <th>Kurtosis:</th>      <td> 7.241</td> <th>  Cond. No.          </th> <td>    12.9</td>\n",
       "</tr>\n",
       "</table><br/><br/>Warnings:<br/>[1] Standard Errors assume that the covariance matrix of the errors is correctly specified."
      ],
      "text/plain": [
       "<class 'statsmodels.iolib.summary.Summary'>\n",
       "\"\"\"\n",
       "                                  OLS Regression Results                                  \n",
       "==========================================================================================\n",
       "Dep. Variable:     Stock Price Quarterly % Growth   R-squared:                       0.352\n",
       "Model:                                        OLS   Adj. R-squared:                  0.347\n",
       "Method:                             Least Squares   F-statistic:                     72.82\n",
       "Date:                            Wed, 03 Jun 2020   Prob (F-statistic):           2.69e-14\n",
       "Time:                                    19:09:08   Log-Likelihood:                 70.367\n",
       "No. Observations:                             136   AIC:                            -136.7\n",
       "Df Residuals:                                 134   BIC:                            -130.9\n",
       "Df Model:                                       1                                         \n",
       "Covariance Type:                        nonrobust                                         \n",
       "==============================================================================\n",
       "                 coef    std err          t      P>|t|      [0.025      0.975]\n",
       "------------------------------------------------------------------------------\n",
       "const          0.0441      0.013      3.410      0.001       0.019       0.070\n",
       "Close          1.3674      0.160      8.534      0.000       1.050       1.684\n",
       "==============================================================================\n",
       "Omnibus:                       43.437   Durbin-Watson:                   1.596\n",
       "Prob(Omnibus):                  0.000   Jarque-Bera (JB):              133.380\n",
       "Skew:                           1.178   Prob(JB):                     1.09e-29\n",
       "Kurtosis:                       7.241   Cond. No.                         12.9\n",
       "==============================================================================\n",
       "\n",
       "Warnings:\n",
       "[1] Standard Errors assume that the covariance matrix of the errors is correctly specified.\n",
       "\"\"\""
      ]
     },
     "execution_count": 29,
     "metadata": {},
     "output_type": "execute_result"
    }
   ],
   "source": [
    "ind = dow.diff()/dow.shift(1)\n",
    "reg_data = pd.concat([price_growth, ind], axis = 1)\n",
    "reg_data = reg_data.dropna()\n",
    "model, y, X = create_model(reg_data)\n",
    "model.summary()"
   ]
  },
  {
   "cell_type": "markdown",
   "metadata": {},
   "source": [
    "Hey! 35% R-squared might not sound that good but in practice, this isn't too bad. We have a significant parameter on the dow, this looks like its got some promise so let's explore further."
   ]
  },
  {
   "cell_type": "markdown",
   "metadata": {},
   "source": [
    "Let's look at the residuals and see if they look normally distributed and also plot them to see if heteroskedasticity seems to be an issue. We will have formal tests for this in the diagnostics section, but a quick visual inspection is often useful."
   ]
  },
  {
   "cell_type": "code",
   "execution_count": 30,
   "metadata": {},
   "outputs": [
    {
     "data": {
      "image/png": "[encoded data removed]",
      "text/plain": [
       "<Figure size 432x288 with 1 Axes>"
      ]
     },
     "metadata": {
      "needs_background": "light"
     },
     "output_type": "display_data"
    },
    {
     "data": {
      "text/plain": [
       "<matplotlib.axes._subplots.AxesSubplot at 0x12e0be7d0>"
      ]
     },
     "execution_count": 30,
     "metadata": {},
     "output_type": "execute_result"
    },
    {
     "data": {
      "image/png": "[encoded data removed]",
      "text/plain": [
       "<Figure size 432x288 with 1 Axes>"
      ]
     },
     "metadata": {
      "needs_background": "light"
     },
     "output_type": "display_data"
    }
   ],
   "source": [
    "model.resid.hist()\n",
    "plt.show()\n",
    "model.resid.plot()"
   ]
  },
  {
   "cell_type": "markdown",
   "metadata": {},
   "source": [
    "Let's backtest this a bit. Statsmodels makes it easy to do a one-quarter ahead backtest. While we care more about dynamic backtesting, this can be informative."
   ]
  },
  {
   "cell_type": "code",
   "execution_count": 31,
   "metadata": {},
   "outputs": [
    {
     "data": {
      "text/plain": [
       "<matplotlib.legend.Legend at 0x12eb535d0>"
      ]
     },
     "execution_count": 31,
     "metadata": {},
     "output_type": "execute_result"
    },
    {
     "data": {
      "image/png": "[encoded data removed]",
      "text/plain": [
       "<Figure size 432x288 with 1 Axes>"
      ]
     },
     "metadata": {
      "needs_background": "light"
     },
     "output_type": "display_data"
    }
   ],
   "source": [
    "# find model predictions\n",
    "predictions = model.predict(X)\n",
    "# plot predictions against actuals\n",
    "plt.plot(predictions.index, predictions, y.index, y)\n",
    "plt.legend(['Predictions', 'Actuals'])"
   ]
  },
  {
   "cell_type": "markdown",
   "metadata": {},
   "source": [
    "### Part 5: Diagnostics\n",
    "\n",
    "As we approach our diagnostics, we recall that there are some fundamental assumptions of linear regression that must hold true with our model. These assumptions will be the focus of our diagnostics tests.\n",
    "* Residuals are normally distributed\n",
    "* All regression variables (independent and dependent) are stationary\n",
    "* Heteroskedasticity is not present in the residuals\n",
    "* Autocorrelation is not present in the residuals\n",
    "\n",
    "while there are several methods to test each of these assumptions, we will just choose one for each for today. "
   ]
  },
  {
   "cell_type": "markdown",
   "metadata": {},
   "source": [
    "#### Residual Normality - Shapiro-Wilk Test\n",
    "\n",
    "$H_0$: Residuals are normally distributed\n",
    "\n",
    "$H_a$: Residuals are not normally distributed\n",
    "\n",
    "We see below from our low p-value that our residuals show evidence of not being normally distributed, which is an issue."
   ]
  },
  {
   "cell_type": "code",
   "execution_count": 32,
   "metadata": {},
   "outputs": [
    {
     "data": {
      "text/plain": [
       "(0.9330253601074219, 4.456813712749863e-06)"
      ]
     },
     "execution_count": 32,
     "metadata": {},
     "output_type": "execute_result"
    }
   ],
   "source": [
    "sp.shapiro(model.resid)"
   ]
  },
  {
   "cell_type": "markdown",
   "metadata": {},
   "source": [
    "#### Stationarity of Variables - Augmented Dickey-Fuller Test\n",
    "$H_0$: Unit root is present (variable is not stationary)\n",
    "\n",
    "$H_a$: Unit root is not present (variable is stationary)\n",
    "\n",
    "We see below from our low p-values on both our variables that they are stationary.\n"
   ]
  },
  {
   "cell_type": "code",
   "execution_count": 33,
   "metadata": {},
   "outputs": [
    {
     "data": {
      "text/plain": [
       "(-5.779606998136448,\n",
       " 5.162594305814863e-07,\n",
       " 2,\n",
       " 133,\n",
       " {'1%': -3.480500383888377,\n",
       "  '5%': -2.8835279559405045,\n",
       "  '10%': -2.578495716547007},\n",
       " -112.68408719448911)"
      ]
     },
     "execution_count": 33,
     "metadata": {},
     "output_type": "execute_result"
    }
   ],
   "source": [
    "adfuller(y)"
   ]
  },
  {
   "cell_type": "code",
   "execution_count": 34,
   "metadata": {},
   "outputs": [
    {
     "data": {
      "text/plain": [
       "(-11.955311198093387,\n",
       " 4.223335755473661e-22,\n",
       " 0,\n",
       " 135,\n",
       " {'1%': -3.479742586699182,\n",
       "  '5%': -2.88319822181578,\n",
       "  '10%': -2.578319684499314},\n",
       " -283.73635073592243)"
      ]
     },
     "execution_count": 34,
     "metadata": {},
     "output_type": "execute_result"
    }
   ],
   "source": [
    "adfuller(X.iloc[:,1])"
   ]
  },
  {
   "cell_type": "markdown",
   "metadata": {},
   "source": [
    "#### Heteroskedasticity of Residuals - White's Test\n",
    "\n",
    "$H_0$: Homoskedasticity\n",
    "\n",
    "$H_a$: Heteroskedasticity\n",
    "\n",
    "We see the p-value is 0.01, indicating that heteroskedasticity is an issue with this model."
   ]
  },
  {
   "cell_type": "code",
   "execution_count": 35,
   "metadata": {},
   "outputs": [
    {
     "data": {
      "text/plain": [
       "(8.857749994344147,\n",
       " 0.011927901049868917,\n",
       " 4.6329239461916325,\n",
       " 0.011348552272043518)"
      ]
     },
     "execution_count": 35,
     "metadata": {},
     "output_type": "execute_result"
    }
   ],
   "source": [
    "sm.stats.diagnostic.het_white(model.resid, model.model.exog)"
   ]
  },
  {
   "cell_type": "markdown",
   "metadata": {},
   "source": [
    "We can use heteroskedasticity-consistent standard errors to check if our model specification is still significant in the presence of heteroskedasticity, and indeed it is. "
   ]
  },
  {
   "cell_type": "code",
   "execution_count": 36,
   "metadata": {},
   "outputs": [
    {
     "data": {
      "text/html": [
       "<table class=\"simpletable\">\n",
       "<caption>OLS Regression Results</caption>\n",
       "<tr>\n",
       "  <th>Dep. Variable:</th>    <td>Stock Price Quarterly % Growth</td> <th>  R-squared:         </th> <td>   0.352</td>\n",
       "</tr>\n",
       "<tr>\n",
       "  <th>Model:</th>                          <td>OLS</td>              <th>  Adj. R-squared:    </th> <td>   0.347</td>\n",
       "</tr>\n",
       "<tr>\n",
       "  <th>Method:</th>                    <td>Least Squares</td>         <th>  F-statistic:       </th> <td>   41.24</td>\n",
       "</tr>\n",
       "<tr>\n",
       "  <th>Date:</th>                    <td>Wed, 03 Jun 2020</td>        <th>  Prob (F-statistic):</th> <td>2.16e-09</td>\n",
       "</tr>\n",
       "<tr>\n",
       "  <th>Time:</th>                        <td>19:09:09</td>            <th>  Log-Likelihood:    </th> <td>  70.367</td>\n",
       "</tr>\n",
       "<tr>\n",
       "  <th>No. Observations:</th>             <td>   136</td>             <th>  AIC:               </th> <td>  -136.7</td>\n",
       "</tr>\n",
       "<tr>\n",
       "  <th>Df Residuals:</th>                 <td>   134</td>             <th>  BIC:               </th> <td>  -130.9</td>\n",
       "</tr>\n",
       "<tr>\n",
       "  <th>Df Model:</th>                     <td>     1</td>             <th>                     </th>     <td> </td>   \n",
       "</tr>\n",
       "<tr>\n",
       "  <th>Covariance Type:</th>                <td>HAC</td>              <th>                     </th>     <td> </td>   \n",
       "</tr>\n",
       "</table>\n",
       "<table class=\"simpletable\">\n",
       "<tr>\n",
       "    <td></td>       <th>coef</th>     <th>std err</th>      <th>t</th>      <th>P>|t|</th>  <th>[0.025</th>    <th>0.975]</th>  \n",
       "</tr>\n",
       "<tr>\n",
       "  <th>const</th> <td>    0.0441</td> <td>    0.013</td> <td>    3.515</td> <td> 0.001</td> <td>    0.019</td> <td>    0.069</td>\n",
       "</tr>\n",
       "<tr>\n",
       "  <th>Close</th> <td>    1.3674</td> <td>    0.213</td> <td>    6.422</td> <td> 0.000</td> <td>    0.946</td> <td>    1.789</td>\n",
       "</tr>\n",
       "</table>\n",
       "<table class=\"simpletable\">\n",
       "<tr>\n",
       "  <th>Omnibus:</th>       <td>43.437</td> <th>  Durbin-Watson:     </th> <td>   1.596</td>\n",
       "</tr>\n",
       "<tr>\n",
       "  <th>Prob(Omnibus):</th> <td> 0.000</td> <th>  Jarque-Bera (JB):  </th> <td> 133.380</td>\n",
       "</tr>\n",
       "<tr>\n",
       "  <th>Skew:</th>          <td> 1.178</td> <th>  Prob(JB):          </th> <td>1.09e-29</td>\n",
       "</tr>\n",
       "<tr>\n",
       "  <th>Kurtosis:</th>      <td> 7.241</td> <th>  Cond. No.          </th> <td>    12.9</td>\n",
       "</tr>\n",
       "</table><br/><br/>Warnings:<br/>[1] Standard Errors are heteroscedasticity and autocorrelation robust (HAC) using 1 lags and without small sample correction"
      ],
      "text/plain": [
       "<class 'statsmodels.iolib.summary.Summary'>\n",
       "\"\"\"\n",
       "                                  OLS Regression Results                                  \n",
       "==========================================================================================\n",
       "Dep. Variable:     Stock Price Quarterly % Growth   R-squared:                       0.352\n",
       "Model:                                        OLS   Adj. R-squared:                  0.347\n",
       "Method:                             Least Squares   F-statistic:                     41.24\n",
       "Date:                            Wed, 03 Jun 2020   Prob (F-statistic):           2.16e-09\n",
       "Time:                                    19:09:09   Log-Likelihood:                 70.367\n",
       "No. Observations:                             136   AIC:                            -136.7\n",
       "Df Residuals:                                 134   BIC:                            -130.9\n",
       "Df Model:                                       1                                         \n",
       "Covariance Type:                              HAC                                         \n",
       "==============================================================================\n",
       "                 coef    std err          t      P>|t|      [0.025      0.975]\n",
       "------------------------------------------------------------------------------\n",
       "const          0.0441      0.013      3.515      0.001       0.019       0.069\n",
       "Close          1.3674      0.213      6.422      0.000       0.946       1.789\n",
       "==============================================================================\n",
       "Omnibus:                       43.437   Durbin-Watson:                   1.596\n",
       "Prob(Omnibus):                  0.000   Jarque-Bera (JB):              133.380\n",
       "Skew:                           1.178   Prob(JB):                     1.09e-29\n",
       "Kurtosis:                       7.241   Cond. No.                         12.9\n",
       "==============================================================================\n",
       "\n",
       "Warnings:\n",
       "[1] Standard Errors are heteroscedasticity and autocorrelation robust (HAC) using 1 lags and without small sample correction\n",
       "\"\"\""
      ]
     },
     "execution_count": 36,
     "metadata": {},
     "output_type": "execute_result"
    }
   ],
   "source": [
    "new = model.get_robustcov_results(cov_type='HAC', maxlags=1)\n",
    "new.summary()"
   ]
  },
  {
   "cell_type": "markdown",
   "metadata": {},
   "source": [
    "### Autocorrelation of Residuals - Breusch-Godfrey Test\n",
    "\n",
    "$H_0$: No autocorrelation is present\n",
    "\n",
    "$H_a$: Autocorrelation is present\n",
    "\n",
    "We see from our p-value of 0.2 that autocorrelation does not seem to be present in this model. "
   ]
  },
  {
   "cell_type": "code",
   "execution_count": 37,
   "metadata": {},
   "outputs": [
    {
     "data": {
      "text/plain": [
       "(5.958441218424532, 0.2022734799828453, 1.4891342537969865, 0.2091811367216205)"
      ]
     },
     "execution_count": 37,
     "metadata": {},
     "output_type": "execute_result"
    }
   ],
   "source": [
    "# note - we use 4 lags as that's the periodicity of the model \n",
    "sm.stats.diagnostic.acorr_breusch_godfrey(model, nlags=4, store=False) "
   ]
  },
  {
   "cell_type": "code",
   "execution_count": null,
   "metadata": {},
   "outputs": [],
   "source": []
  }
 ],
 "metadata": {
  "kernelspec": {
   "display_name": "Python 3",
   "language": "python",
   "name": "python3"
  },
  "language_info": {
   "codemirror_mode": {
    "name": "ipython",
    "version": 3
   },
   "file_extension": ".py",
   "mimetype": "text/x-python",
   "name": "python",
   "nbconvert_exporter": "python",
   "pygments_lexer": "ipython3",
   "version": "3.7.4"
  }
 },
 "nbformat": 4,
 "nbformat_minor": 2
}
